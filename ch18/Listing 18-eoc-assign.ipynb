{
 "cells": [
  {
   "cell_type": "code",
   "execution_count": 1,
   "metadata": {},
   "outputs": [
    {
     "name": "stderr",
     "output_type": "stream",
     "text": [
      "/home/mattmann/install/python37/lib/python3.7/site-packages/tensorflow/python/framework/dtypes.py:516: FutureWarning: Passing (type, 1) or '1type' as a synonym of type is deprecated; in a future version of numpy, it will be understood as (type, (1,)) / '(1,)type'.\n",
      "  _np_qint8 = np.dtype([(\"qint8\", np.int8, 1)])\n",
      "/home/mattmann/install/python37/lib/python3.7/site-packages/tensorflow/python/framework/dtypes.py:517: FutureWarning: Passing (type, 1) or '1type' as a synonym of type is deprecated; in a future version of numpy, it will be understood as (type, (1,)) / '(1,)type'.\n",
      "  _np_quint8 = np.dtype([(\"quint8\", np.uint8, 1)])\n",
      "/home/mattmann/install/python37/lib/python3.7/site-packages/tensorflow/python/framework/dtypes.py:518: FutureWarning: Passing (type, 1) or '1type' as a synonym of type is deprecated; in a future version of numpy, it will be understood as (type, (1,)) / '(1,)type'.\n",
      "  _np_qint16 = np.dtype([(\"qint16\", np.int16, 1)])\n",
      "/home/mattmann/install/python37/lib/python3.7/site-packages/tensorflow/python/framework/dtypes.py:519: FutureWarning: Passing (type, 1) or '1type' as a synonym of type is deprecated; in a future version of numpy, it will be understood as (type, (1,)) / '(1,)type'.\n",
      "  _np_quint16 = np.dtype([(\"quint16\", np.uint16, 1)])\n",
      "/home/mattmann/install/python37/lib/python3.7/site-packages/tensorflow/python/framework/dtypes.py:520: FutureWarning: Passing (type, 1) or '1type' as a synonym of type is deprecated; in a future version of numpy, it will be understood as (type, (1,)) / '(1,)type'.\n",
      "  _np_qint32 = np.dtype([(\"qint32\", np.int32, 1)])\n",
      "/home/mattmann/install/python37/lib/python3.7/site-packages/tensorflow/python/framework/dtypes.py:525: FutureWarning: Passing (type, 1) or '1type' as a synonym of type is deprecated; in a future version of numpy, it will be understood as (type, (1,)) / '(1,)type'.\n",
      "  np_resource = np.dtype([(\"resource\", np.ubyte, 1)])\n",
      "/home/mattmann/install/python37/lib/python3.7/site-packages/pandas/compat/__init__.py:117: UserWarning: Could not import the lzma module. Your installed Python is incomplete. Attempting to use lzma compression will result in a RuntimeError.\n",
      "  warnings.warn(msg)\n",
      "/home/mattmann/install/python37/lib/python3.7/site-packages/tensorboard/compat/tensorflow_stub/dtypes.py:541: FutureWarning: Passing (type, 1) or '1type' as a synonym of type is deprecated; in a future version of numpy, it will be understood as (type, (1,)) / '(1,)type'.\n",
      "  _np_qint8 = np.dtype([(\"qint8\", np.int8, 1)])\n",
      "/home/mattmann/install/python37/lib/python3.7/site-packages/tensorboard/compat/tensorflow_stub/dtypes.py:542: FutureWarning: Passing (type, 1) or '1type' as a synonym of type is deprecated; in a future version of numpy, it will be understood as (type, (1,)) / '(1,)type'.\n",
      "  _np_quint8 = np.dtype([(\"quint8\", np.uint8, 1)])\n",
      "/home/mattmann/install/python37/lib/python3.7/site-packages/tensorboard/compat/tensorflow_stub/dtypes.py:543: FutureWarning: Passing (type, 1) or '1type' as a synonym of type is deprecated; in a future version of numpy, it will be understood as (type, (1,)) / '(1,)type'.\n",
      "  _np_qint16 = np.dtype([(\"qint16\", np.int16, 1)])\n",
      "/home/mattmann/install/python37/lib/python3.7/site-packages/tensorboard/compat/tensorflow_stub/dtypes.py:544: FutureWarning: Passing (type, 1) or '1type' as a synonym of type is deprecated; in a future version of numpy, it will be understood as (type, (1,)) / '(1,)type'.\n",
      "  _np_quint16 = np.dtype([(\"quint16\", np.uint16, 1)])\n",
      "/home/mattmann/install/python37/lib/python3.7/site-packages/tensorboard/compat/tensorflow_stub/dtypes.py:545: FutureWarning: Passing (type, 1) or '1type' as a synonym of type is deprecated; in a future version of numpy, it will be understood as (type, (1,)) / '(1,)type'.\n",
      "  _np_qint32 = np.dtype([(\"qint32\", np.int32, 1)])\n",
      "/home/mattmann/install/python37/lib/python3.7/site-packages/tensorboard/compat/tensorflow_stub/dtypes.py:550: FutureWarning: Passing (type, 1) or '1type' as a synonym of type is deprecated; in a future version of numpy, it will be understood as (type, (1,)) / '(1,)type'.\n",
      "  np_resource = np.dtype([(\"resource\", np.ubyte, 1)])\n"
     ]
    }
   ],
   "source": [
    "import tensorflow as tf\n",
    "import numpy as np\n",
    "import os, re\n",
    "from tensorflow.python.layers.core import Dense"
   ]
  },
  {
   "cell_type": "code",
   "execution_count": 2,
   "metadata": {},
   "outputs": [],
   "source": [
    "MAX_CHAR_PER_LINE = 20\n",
    "\n",
    "def load_sentences(path):\n",
    "    with open(path, 'r', encoding=\"ISO-8859-1\") as f:\n",
    "        data_raw = f.read().encode('ascii', 'ignore').decode('UTF-8').lower()\n",
    "        data_alpha = re.sub('[^a-z\\n]+', ' ', data_raw)\n",
    "        data = []\n",
    "        for line in data_alpha.split('\\n'):\n",
    "            data.append(line[:MAX_CHAR_PER_LINE])\n",
    "    return data"
   ]
  },
  {
   "cell_type": "code",
   "execution_count": 3,
   "metadata": {},
   "outputs": [],
   "source": [
    "def extract_character_vocab(data):\n",
    "    special_symbols = ['<PAD>', '<UNK>', '<GO>',  '<EOS>']\n",
    "    set_symbols = set([character for line in data for character in line])\n",
    "    all_symbols = special_symbols + list(set_symbols)\n",
    "    int_to_symbol = {word_i: word for word_i, word in enumerate(all_symbols)}\n",
    "    symbol_to_int = {word: word_i for word_i, word in int_to_symbol.items()}\n",
    "    return int_to_symbol, symbol_to_int\n",
    "\n",
    "input_sentences = load_sentences('../data/seq2seq/data/words_input.txt')  \n",
    "output_sentences = load_sentences('../data/seq2seq/data/words_output.txt')  \n",
    "\n",
    "input_int_to_symbol, input_symbol_to_int = extract_character_vocab(input_sentences)\n",
    "output_int_to_symbol, output_symbol_to_int = extract_character_vocab(output_sentences)"
   ]
  },
  {
   "cell_type": "code",
   "execution_count": 4,
   "metadata": {},
   "outputs": [
    {
     "data": {
      "text/plain": [
       "{0: '<PAD>',\n",
       " 1: '<UNK>',\n",
       " 2: '<GO>',\n",
       " 3: '<EOS>',\n",
       " 4: 'i',\n",
       " 5: 'y',\n",
       " 6: 'f',\n",
       " 7: 'w',\n",
       " 8: 'o',\n",
       " 9: 'h',\n",
       " 10: 'v',\n",
       " 11: 'e',\n",
       " 12: 'j',\n",
       " 13: 'n',\n",
       " 14: 'm',\n",
       " 15: 'z',\n",
       " 16: 'r',\n",
       " 17: 'g',\n",
       " 18: 'l',\n",
       " 19: ' ',\n",
       " 20: 'b',\n",
       " 21: 'x',\n",
       " 22: 'u',\n",
       " 23: 't',\n",
       " 24: 'd',\n",
       " 25: 'q',\n",
       " 26: 'p',\n",
       " 27: 'c',\n",
       " 28: 'a',\n",
       " 29: 's',\n",
       " 30: 'k'}"
      ]
     },
     "execution_count": 4,
     "metadata": {},
     "output_type": "execute_result"
    }
   ],
   "source": [
    "input_int_to_symbol"
   ]
  },
  {
   "cell_type": "code",
   "execution_count": 5,
   "metadata": {},
   "outputs": [
    {
     "data": {
      "text/plain": [
       "{0: '<PAD>',\n",
       " 1: '<UNK>',\n",
       " 2: '<GO>',\n",
       " 3: '<EOS>',\n",
       " 4: 'i',\n",
       " 5: 'y',\n",
       " 6: 'f',\n",
       " 7: 'w',\n",
       " 8: 'o',\n",
       " 9: 'h',\n",
       " 10: 'v',\n",
       " 11: 'e',\n",
       " 12: 'j',\n",
       " 13: 'n',\n",
       " 14: 'm',\n",
       " 15: 'z',\n",
       " 16: 'r',\n",
       " 17: 'g',\n",
       " 18: 'l',\n",
       " 19: 'b',\n",
       " 20: ' ',\n",
       " 21: 'x',\n",
       " 22: 'u',\n",
       " 23: 't',\n",
       " 24: 'd',\n",
       " 25: 'q',\n",
       " 26: 'p',\n",
       " 27: 'c',\n",
       " 28: 'a',\n",
       " 29: 's',\n",
       " 30: 'k'}"
      ]
     },
     "execution_count": 5,
     "metadata": {},
     "output_type": "execute_result"
    }
   ],
   "source": [
    "output_int_to_symbol"
   ]
  },
  {
   "cell_type": "code",
   "execution_count": 6,
   "metadata": {},
   "outputs": [],
   "source": [
    "#NUM_EPOCS = 300\n",
    "NUM_EPOCS=5\n",
    "RNN_STATE_DIM = 512\n",
    "RNN_NUM_LAYERS = 2\n",
    "ENCODER_EMBEDDING_DIM = DECODER_EMBEDDING_DIM = 64\n",
    " \n",
    "BATCH_SIZE = int(32)\n",
    "LEARNING_RATE = 0.0003\n",
    " \n",
    "INPUT_NUM_VOCAB = len(input_symbol_to_int)\n",
    "OUTPUT_NUM_VOCAB = len(output_symbol_to_int)"
   ]
  },
  {
   "cell_type": "code",
   "execution_count": 7,
   "metadata": {},
   "outputs": [],
   "source": [
    "# Encoder placeholders\n",
    "encoder_input_seq = tf.placeholder(\n",
    "    tf.int32, \n",
    "    [None, None],  \n",
    "    name='encoder_input_seq'\n",
    ")\n",
    "\n",
    "encoder_seq_len = tf.placeholder(\n",
    "    tf.int32, \n",
    "    (None,), \n",
    "    name='encoder_seq_len'\n",
    ")\n",
    " \n",
    "# Decoder placeholders\n",
    "decoder_output_seq = tf.placeholder( \n",
    "    tf.int32, \n",
    "    [None, None],\n",
    "    name='decoder_output_seq'\n",
    ")\n",
    "\n",
    "decoder_seq_len = tf.placeholder(\n",
    "    tf.int32,\n",
    "    (None,), \n",
    "    name='decoder_seq_len'\n",
    ")\n",
    "\n",
    "max_decoder_seq_len = tf.reduce_max( \n",
    "    decoder_seq_len, \n",
    "    name='max_decoder_seq_len'\n",
    ")"
   ]
  },
  {
   "cell_type": "code",
   "execution_count": 8,
   "metadata": {},
   "outputs": [],
   "source": [
    "def make_cell(state_dim):\n",
    "    lstm_initializer = tf.random_uniform_initializer(-0.1, 0.1)\n",
    "    return tf.contrib.rnn.LSTMCell(state_dim, initializer=lstm_initializer)\n",
    " \n",
    "def make_multi_cell(state_dim, num_layers):\n",
    "    cells = [make_cell(state_dim) for _ in range(num_layers)]\n",
    "    return tf.contrib.rnn.MultiRNNCell(cells)"
   ]
  },
  {
   "cell_type": "code",
   "execution_count": 9,
   "metadata": {},
   "outputs": [
    {
     "name": "stdout",
     "output_type": "stream",
     "text": [
      "WARNING:tensorflow:\n",
      "The TensorFlow contrib module will not be included in TensorFlow 2.0.\n",
      "For more information, please see:\n",
      "  * https://github.com/tensorflow/community/blob/master/rfcs/20180907-contrib-sunset.md\n",
      "  * https://github.com/tensorflow/addons\n",
      "  * https://github.com/tensorflow/io (for I/O related ops)\n",
      "If you depend on functionality not listed there, please file an issue.\n",
      "\n",
      "WARNING:tensorflow:From /home/mattmann/install/python37/lib/python3.7/site-packages/tensorflow/python/ops/init_ops.py:1251: calling VarianceScaling.__init__ (from tensorflow.python.ops.init_ops) with dtype is deprecated and will be removed in a future version.\n",
      "Instructions for updating:\n",
      "Call initializer instance with the dtype argument instead of passing it to the constructor\n",
      "WARNING:tensorflow:From <ipython-input-8-b0e2ecdc0d3e>:3: LSTMCell.__init__ (from tensorflow.python.ops.rnn_cell_impl) is deprecated and will be removed in a future version.\n",
      "Instructions for updating:\n",
      "This class is equivalent as tf.keras.layers.LSTMCell, and will be replaced by that in Tensorflow 2.0.\n",
      "WARNING:tensorflow:From <ipython-input-8-b0e2ecdc0d3e>:7: MultiRNNCell.__init__ (from tensorflow.python.ops.rnn_cell_impl) is deprecated and will be removed in a future version.\n",
      "Instructions for updating:\n",
      "This class is equivalent as tf.keras.layers.StackedRNNCells, and will be replaced by that in Tensorflow 2.0.\n",
      "WARNING:tensorflow:From <ipython-input-9-daed38c1850a>:18: dynamic_rnn (from tensorflow.python.ops.rnn) is deprecated and will be removed in a future version.\n",
      "Instructions for updating:\n",
      "Please use `keras.layers.RNN(cell)`, which is equivalent to this API\n",
      "WARNING:tensorflow:Entity <bound method MultiRNNCell.call of <tensorflow.python.ops.rnn_cell_impl.MultiRNNCell object at 0x7f755c162c50>> could not be transformed and will be executed as-is. Please report this to the AutgoGraph team. When filing the bug, set the verbosity to 10 (on Linux, `export AUTOGRAPH_VERBOSITY=10`) and attach the full output. Cause: converting <bound method MultiRNNCell.call of <tensorflow.python.ops.rnn_cell_impl.MultiRNNCell object at 0x7f755c162c50>>: AttributeError: module 'gast' has no attribute 'Num'\n",
      "WARNING: Entity <bound method MultiRNNCell.call of <tensorflow.python.ops.rnn_cell_impl.MultiRNNCell object at 0x7f755c162c50>> could not be transformed and will be executed as-is. Please report this to the AutgoGraph team. When filing the bug, set the verbosity to 10 (on Linux, `export AUTOGRAPH_VERBOSITY=10`) and attach the full output. Cause: converting <bound method MultiRNNCell.call of <tensorflow.python.ops.rnn_cell_impl.MultiRNNCell object at 0x7f755c162c50>>: AttributeError: module 'gast' has no attribute 'Num'\n",
      "WARNING:tensorflow:From /home/mattmann/install/python37/lib/python3.7/site-packages/tensorflow/python/ops/rnn_cell_impl.py:961: calling Zeros.__init__ (from tensorflow.python.ops.init_ops) with dtype is deprecated and will be removed in a future version.\n",
      "Instructions for updating:\n",
      "Call initializer instance with the dtype argument instead of passing it to the constructor\n",
      "WARNING:tensorflow:Entity <bound method LSTMCell.call of <tensorflow.python.ops.rnn_cell_impl.LSTMCell object at 0x7f755f746790>> could not be transformed and will be executed as-is. Please report this to the AutgoGraph team. When filing the bug, set the verbosity to 10 (on Linux, `export AUTOGRAPH_VERBOSITY=10`) and attach the full output. Cause: converting <bound method LSTMCell.call of <tensorflow.python.ops.rnn_cell_impl.LSTMCell object at 0x7f755f746790>>: AttributeError: module 'gast' has no attribute 'Num'\n",
      "WARNING: Entity <bound method LSTMCell.call of <tensorflow.python.ops.rnn_cell_impl.LSTMCell object at 0x7f755f746790>> could not be transformed and will be executed as-is. Please report this to the AutgoGraph team. When filing the bug, set the verbosity to 10 (on Linux, `export AUTOGRAPH_VERBOSITY=10`) and attach the full output. Cause: converting <bound method LSTMCell.call of <tensorflow.python.ops.rnn_cell_impl.LSTMCell object at 0x7f755f746790>>: AttributeError: module 'gast' has no attribute 'Num'\n",
      "WARNING:tensorflow:Entity <bound method LSTMCell.call of <tensorflow.python.ops.rnn_cell_impl.LSTMCell object at 0x7f755c162690>> could not be transformed and will be executed as-is. Please report this to the AutgoGraph team. When filing the bug, set the verbosity to 10 (on Linux, `export AUTOGRAPH_VERBOSITY=10`) and attach the full output. Cause: converting <bound method LSTMCell.call of <tensorflow.python.ops.rnn_cell_impl.LSTMCell object at 0x7f755c162690>>: AttributeError: module 'gast' has no attribute 'Num'\n",
      "WARNING: Entity <bound method LSTMCell.call of <tensorflow.python.ops.rnn_cell_impl.LSTMCell object at 0x7f755c162690>> could not be transformed and will be executed as-is. Please report this to the AutgoGraph team. When filing the bug, set the verbosity to 10 (on Linux, `export AUTOGRAPH_VERBOSITY=10`) and attach the full output. Cause: converting <bound method LSTMCell.call of <tensorflow.python.ops.rnn_cell_impl.LSTMCell object at 0x7f755c162690>>: AttributeError: module 'gast' has no attribute 'Num'\n",
      "WARNING:tensorflow:From /home/mattmann/install/python37/lib/python3.7/site-packages/tensorflow/python/ops/rnn.py:244: add_dispatch_support.<locals>.wrapper (from tensorflow.python.ops.array_ops) is deprecated and will be removed in a future version.\n",
      "Instructions for updating:\n",
      "Use tf.where in 2.0, which has the same broadcast rule as np.where\n"
     ]
    }
   ],
   "source": [
    "# Encoder embedding\n",
    " \n",
    "encoder_input_embedded = tf.contrib.layers.embed_sequence(\n",
    "    encoder_input_seq,     \n",
    "    INPUT_NUM_VOCAB,        \n",
    "    ENCODER_EMBEDDING_DIM  \n",
    ")\n",
    " \n",
    " \n",
    "# Encodering output\n",
    " \n",
    "encoder_multi_cell = make_multi_cell(RNN_STATE_DIM, RNN_NUM_LAYERS)\n",
    " \n",
    "encoder_output, encoder_state = tf.nn.dynamic_rnn(\n",
    "    encoder_multi_cell, \n",
    "    encoder_input_embedded, \n",
    "    sequence_length=encoder_seq_len, \n",
    "    dtype=tf.float32\n",
    ")\n",
    " \n",
    "del(encoder_output)"
   ]
  },
  {
   "cell_type": "code",
   "execution_count": 10,
   "metadata": {},
   "outputs": [],
   "source": [
    "decoder_raw_seq = decoder_output_seq[:, :-1]  \n",
    "go_prefixes = tf.fill([BATCH_SIZE, 1], output_symbol_to_int['<GO>'])  \n",
    "decoder_input_seq = tf.concat([go_prefixes, decoder_raw_seq], 1)  "
   ]
  },
  {
   "cell_type": "code",
   "execution_count": 11,
   "metadata": {},
   "outputs": [],
   "source": [
    "decoder_embedding = tf.Variable(tf.random_uniform([OUTPUT_NUM_VOCAB, \n",
    "                                                   DECODER_EMBEDDING_DIM]))\n",
    "decoder_input_embedded = tf.nn.embedding_lookup(decoder_embedding, \n",
    "                                                decoder_input_seq)\n",
    "\n",
    "decoder_multi_cell = make_multi_cell(RNN_STATE_DIM, RNN_NUM_LAYERS)\n",
    " \n",
    "output_layer_kernel_initializer = tf.truncated_normal_initializer(mean=0.0, stddev=0.1)\n",
    "output_layer = Dense(\n",
    "    OUTPUT_NUM_VOCAB,\n",
    "    kernel_initializer = output_layer_kernel_initializer\n",
    ")"
   ]
  },
  {
   "cell_type": "code",
   "execution_count": 12,
   "metadata": {},
   "outputs": [
    {
     "name": "stdout",
     "output_type": "stream",
     "text": [
      "WARNING:tensorflow:Entity <bound method MultiRNNCell.call of <tensorflow.python.ops.rnn_cell_impl.MultiRNNCell object at 0x7f754e89a390>> could not be transformed and will be executed as-is. Please report this to the AutgoGraph team. When filing the bug, set the verbosity to 10 (on Linux, `export AUTOGRAPH_VERBOSITY=10`) and attach the full output. Cause: converting <bound method MultiRNNCell.call of <tensorflow.python.ops.rnn_cell_impl.MultiRNNCell object at 0x7f754e89a390>>: AttributeError: module 'gast' has no attribute 'Num'\n",
      "WARNING: Entity <bound method MultiRNNCell.call of <tensorflow.python.ops.rnn_cell_impl.MultiRNNCell object at 0x7f754e89a390>> could not be transformed and will be executed as-is. Please report this to the AutgoGraph team. When filing the bug, set the verbosity to 10 (on Linux, `export AUTOGRAPH_VERBOSITY=10`) and attach the full output. Cause: converting <bound method MultiRNNCell.call of <tensorflow.python.ops.rnn_cell_impl.MultiRNNCell object at 0x7f754e89a390>>: AttributeError: module 'gast' has no attribute 'Num'\n",
      "WARNING:tensorflow:Entity <bound method LSTMCell.call of <tensorflow.python.ops.rnn_cell_impl.LSTMCell object at 0x7f754e955710>> could not be transformed and will be executed as-is. Please report this to the AutgoGraph team. When filing the bug, set the verbosity to 10 (on Linux, `export AUTOGRAPH_VERBOSITY=10`) and attach the full output. Cause: converting <bound method LSTMCell.call of <tensorflow.python.ops.rnn_cell_impl.LSTMCell object at 0x7f754e955710>>: AttributeError: module 'gast' has no attribute 'Num'\n",
      "WARNING: Entity <bound method LSTMCell.call of <tensorflow.python.ops.rnn_cell_impl.LSTMCell object at 0x7f754e955710>> could not be transformed and will be executed as-is. Please report this to the AutgoGraph team. When filing the bug, set the verbosity to 10 (on Linux, `export AUTOGRAPH_VERBOSITY=10`) and attach the full output. Cause: converting <bound method LSTMCell.call of <tensorflow.python.ops.rnn_cell_impl.LSTMCell object at 0x7f754e955710>>: AttributeError: module 'gast' has no attribute 'Num'\n",
      "WARNING:tensorflow:Entity <bound method LSTMCell.call of <tensorflow.python.ops.rnn_cell_impl.LSTMCell object at 0x7f7561be1610>> could not be transformed and will be executed as-is. Please report this to the AutgoGraph team. When filing the bug, set the verbosity to 10 (on Linux, `export AUTOGRAPH_VERBOSITY=10`) and attach the full output. Cause: converting <bound method LSTMCell.call of <tensorflow.python.ops.rnn_cell_impl.LSTMCell object at 0x7f7561be1610>>: AttributeError: module 'gast' has no attribute 'Num'\n",
      "WARNING: Entity <bound method LSTMCell.call of <tensorflow.python.ops.rnn_cell_impl.LSTMCell object at 0x7f7561be1610>> could not be transformed and will be executed as-is. Please report this to the AutgoGraph team. When filing the bug, set the verbosity to 10 (on Linux, `export AUTOGRAPH_VERBOSITY=10`) and attach the full output. Cause: converting <bound method LSTMCell.call of <tensorflow.python.ops.rnn_cell_impl.LSTMCell object at 0x7f7561be1610>>: AttributeError: module 'gast' has no attribute 'Num'\n",
      "WARNING:tensorflow:Entity <bound method Dense.call of <tensorflow.python.layers.core.Dense object at 0x7f754e9557d0>> could not be transformed and will be executed as-is. Please report this to the AutgoGraph team. When filing the bug, set the verbosity to 10 (on Linux, `export AUTOGRAPH_VERBOSITY=10`) and attach the full output. Cause: converting <bound method Dense.call of <tensorflow.python.layers.core.Dense object at 0x7f754e9557d0>>: AssertionError: Bad argument number for Name: 3, expecting 4\n",
      "WARNING: Entity <bound method Dense.call of <tensorflow.python.layers.core.Dense object at 0x7f754e9557d0>> could not be transformed and will be executed as-is. Please report this to the AutgoGraph team. When filing the bug, set the verbosity to 10 (on Linux, `export AUTOGRAPH_VERBOSITY=10`) and attach the full output. Cause: converting <bound method Dense.call of <tensorflow.python.layers.core.Dense object at 0x7f754e9557d0>>: AssertionError: Bad argument number for Name: 3, expecting 4\n"
     ]
    }
   ],
   "source": [
    "with tf.variable_scope(\"decode\"):\n",
    " \n",
    "    training_helper = tf.contrib.seq2seq.TrainingHelper(\n",
    "        inputs=decoder_input_embedded,\n",
    "        sequence_length=decoder_seq_len,\n",
    "        time_major=False\n",
    "    )\n",
    " \n",
    "    training_decoder = tf.contrib.seq2seq.BasicDecoder(\n",
    "        decoder_multi_cell,\n",
    "        training_helper,\n",
    "        encoder_state,\n",
    "        output_layer\n",
    "    ) \n",
    " \n",
    "    training_decoder_output_seq, _, _ = tf.contrib.seq2seq.dynamic_decode(\n",
    "        training_decoder, \n",
    "        impute_finished=True, \n",
    "        maximum_iterations=max_decoder_seq_len\n",
    "    )"
   ]
  },
  {
   "cell_type": "code",
   "execution_count": 13,
   "metadata": {},
   "outputs": [
    {
     "name": "stdout",
     "output_type": "stream",
     "text": [
      "WARNING:tensorflow:Entity <bound method MultiRNNCell.call of <tensorflow.python.ops.rnn_cell_impl.MultiRNNCell object at 0x7f754e89a390>> could not be transformed and will be executed as-is. Please report this to the AutgoGraph team. When filing the bug, set the verbosity to 10 (on Linux, `export AUTOGRAPH_VERBOSITY=10`) and attach the full output. Cause: converting <bound method MultiRNNCell.call of <tensorflow.python.ops.rnn_cell_impl.MultiRNNCell object at 0x7f754e89a390>>: AttributeError: module 'gast' has no attribute 'Num'\n",
      "WARNING: Entity <bound method MultiRNNCell.call of <tensorflow.python.ops.rnn_cell_impl.MultiRNNCell object at 0x7f754e89a390>> could not be transformed and will be executed as-is. Please report this to the AutgoGraph team. When filing the bug, set the verbosity to 10 (on Linux, `export AUTOGRAPH_VERBOSITY=10`) and attach the full output. Cause: converting <bound method MultiRNNCell.call of <tensorflow.python.ops.rnn_cell_impl.MultiRNNCell object at 0x7f754e89a390>>: AttributeError: module 'gast' has no attribute 'Num'\n",
      "WARNING:tensorflow:Entity <bound method LSTMCell.call of <tensorflow.python.ops.rnn_cell_impl.LSTMCell object at 0x7f754e955710>> could not be transformed and will be executed as-is. Please report this to the AutgoGraph team. When filing the bug, set the verbosity to 10 (on Linux, `export AUTOGRAPH_VERBOSITY=10`) and attach the full output. Cause: converting <bound method LSTMCell.call of <tensorflow.python.ops.rnn_cell_impl.LSTMCell object at 0x7f754e955710>>: AttributeError: module 'gast' has no attribute 'Num'\n",
      "WARNING: Entity <bound method LSTMCell.call of <tensorflow.python.ops.rnn_cell_impl.LSTMCell object at 0x7f754e955710>> could not be transformed and will be executed as-is. Please report this to the AutgoGraph team. When filing the bug, set the verbosity to 10 (on Linux, `export AUTOGRAPH_VERBOSITY=10`) and attach the full output. Cause: converting <bound method LSTMCell.call of <tensorflow.python.ops.rnn_cell_impl.LSTMCell object at 0x7f754e955710>>: AttributeError: module 'gast' has no attribute 'Num'\n",
      "WARNING:tensorflow:Entity <bound method LSTMCell.call of <tensorflow.python.ops.rnn_cell_impl.LSTMCell object at 0x7f7561be1610>> could not be transformed and will be executed as-is. Please report this to the AutgoGraph team. When filing the bug, set the verbosity to 10 (on Linux, `export AUTOGRAPH_VERBOSITY=10`) and attach the full output. Cause: converting <bound method LSTMCell.call of <tensorflow.python.ops.rnn_cell_impl.LSTMCell object at 0x7f7561be1610>>: AttributeError: module 'gast' has no attribute 'Num'\n",
      "WARNING: Entity <bound method LSTMCell.call of <tensorflow.python.ops.rnn_cell_impl.LSTMCell object at 0x7f7561be1610>> could not be transformed and will be executed as-is. Please report this to the AutgoGraph team. When filing the bug, set the verbosity to 10 (on Linux, `export AUTOGRAPH_VERBOSITY=10`) and attach the full output. Cause: converting <bound method LSTMCell.call of <tensorflow.python.ops.rnn_cell_impl.LSTMCell object at 0x7f7561be1610>>: AttributeError: module 'gast' has no attribute 'Num'\n",
      "WARNING:tensorflow:Entity <bound method Dense.call of <tensorflow.python.layers.core.Dense object at 0x7f754e9557d0>> could not be transformed and will be executed as-is. Please report this to the AutgoGraph team. When filing the bug, set the verbosity to 10 (on Linux, `export AUTOGRAPH_VERBOSITY=10`) and attach the full output. Cause: converting <bound method Dense.call of <tensorflow.python.layers.core.Dense object at 0x7f754e9557d0>>: AssertionError: Bad argument number for Name: 3, expecting 4\n",
      "WARNING: Entity <bound method Dense.call of <tensorflow.python.layers.core.Dense object at 0x7f754e9557d0>> could not be transformed and will be executed as-is. Please report this to the AutgoGraph team. When filing the bug, set the verbosity to 10 (on Linux, `export AUTOGRAPH_VERBOSITY=10`) and attach the full output. Cause: converting <bound method Dense.call of <tensorflow.python.layers.core.Dense object at 0x7f754e9557d0>>: AssertionError: Bad argument number for Name: 3, expecting 4\n"
     ]
    }
   ],
   "source": [
    "with tf.variable_scope(\"decode\", reuse=True):\n",
    "    start_tokens = tf.tile(\n",
    "        tf.constant([output_symbol_to_int['<GO>']], \n",
    "                    dtype=tf.int32), \n",
    "        [BATCH_SIZE], \n",
    "        name='start_tokens')\n",
    " \n",
    "    # Helper for the inference process.\n",
    "    inference_helper = tf.contrib.seq2seq.GreedyEmbeddingHelper(\n",
    "        embedding=decoder_embedding,\n",
    "        start_tokens=start_tokens,\n",
    "        end_token=output_symbol_to_int['<EOS>']\n",
    "    )\n",
    " \n",
    "    # Basic decoder\n",
    "    inference_decoder = tf.contrib.seq2seq.BasicDecoder(\n",
    "        decoder_multi_cell,\n",
    "        inference_helper,\n",
    "        encoder_state,\n",
    "        output_layer\n",
    "    )\n",
    " \n",
    "    # Perform dynamic decoding using the decoder\n",
    "    inference_decoder_output_seq, _, _ = tf.contrib.seq2seq.dynamic_decode(\n",
    "        inference_decoder,\n",
    "        impute_finished=True,\n",
    "        maximum_iterations=max_decoder_seq_len\n",
    "    )"
   ]
  },
  {
   "cell_type": "code",
   "execution_count": 14,
   "metadata": {},
   "outputs": [],
   "source": [
    "# rename the tensor for our convenience\n",
    "training_logits = tf.identity(training_decoder_output_seq.rnn_output, name='logits')\n",
    "inference_logits = tf.identity(inference_decoder_output_seq.sample_id, name='predictions')\n",
    " \n",
    "# Create the weights for sequence_loss\n",
    "masks = tf.sequence_mask(\n",
    "    decoder_seq_len, \n",
    "    max_decoder_seq_len, \n",
    "    dtype=tf.float32, \n",
    "    name='masks'\n",
    ")\n",
    " \n",
    "cost = tf.contrib.seq2seq.sequence_loss(\n",
    "    training_logits,\n",
    "    decoder_output_seq,\n",
    "    masks\n",
    ")"
   ]
  },
  {
   "cell_type": "code",
   "execution_count": 15,
   "metadata": {},
   "outputs": [],
   "source": [
    "optimizer = tf.train.AdamOptimizer(LEARNING_RATE)\n",
    " \n",
    "gradients = optimizer.compute_gradients(cost)\n",
    "capped_gradients = [(tf.clip_by_value(grad, -5., 5.), var)\n",
    "                        for grad, var in gradients if grad is not None]\n",
    "train_op = optimizer.apply_gradients(capped_gradients)"
   ]
  },
  {
   "cell_type": "code",
   "execution_count": 16,
   "metadata": {},
   "outputs": [],
   "source": [
    "def pad(xs, size, pad):\n",
    "    return xs + [pad] * (size - len(xs))"
   ]
  },
  {
   "cell_type": "code",
   "execution_count": 17,
   "metadata": {},
   "outputs": [
    {
     "name": "stdout",
     "output_type": "stream",
     "text": [
      "Epoch 0. Batch 0/6919. Cost 3.4428532123565674\n",
      "Epoch 0. Batch 629/6919. Cost 0.951871931552887\n",
      "Epoch 0. Batch 1258/6919. Cost 0.74188232421875\n",
      "Epoch 0. Batch 1887/6919. Cost 0.7657327055931091\n",
      "Epoch 0. Batch 2516/6919. Cost 0.7756928205490112\n",
      "Epoch 0. Batch 3145/6919. Cost 0.7128360271453857\n",
      "Epoch 0. Batch 3774/6919. Cost 0.6420239806175232\n",
      "Epoch 0. Batch 4403/6919. Cost 0.5456139445304871\n",
      "Epoch 0. Batch 5032/6919. Cost 0.6963624954223633\n",
      "Epoch 0. Batch 5661/6919. Cost 0.6506984829902649\n",
      "Epoch 0. Batch 6290/6919. Cost 0.6547672152519226\n",
      "Epoch 1. Batch 0/6919. Cost 2.9258315563201904\n",
      "Epoch 1. Batch 629/6919. Cost 0.5337784886360168\n",
      "Epoch 1. Batch 1258/6919. Cost 0.4609919488430023\n",
      "Epoch 1. Batch 1887/6919. Cost 0.5344712138175964\n",
      "Epoch 1. Batch 2516/6919. Cost 0.5220282673835754\n",
      "Epoch 1. Batch 3145/6919. Cost 0.4747353196144104\n",
      "Epoch 1. Batch 3774/6919. Cost 0.5010072588920593\n",
      "Epoch 1. Batch 4403/6919. Cost 0.4205673038959503\n",
      "Epoch 1. Batch 5032/6919. Cost 0.4817124605178833\n",
      "Epoch 1. Batch 5661/6919. Cost 0.44177839159965515\n",
      "Epoch 1. Batch 6290/6919. Cost 0.4815059006214142\n",
      "Epoch 2. Batch 0/6919. Cost 2.5436315536499023\n",
      "Epoch 2. Batch 629/6919. Cost 0.3907911777496338\n",
      "Epoch 2. Batch 1258/6919. Cost 0.34813418984413147\n",
      "Epoch 2. Batch 1887/6919. Cost 0.4087395966053009\n",
      "Epoch 2. Batch 2516/6919. Cost 0.5170072317123413\n",
      "Epoch 2. Batch 3145/6919. Cost 0.37104102969169617\n",
      "Epoch 2. Batch 3774/6919. Cost 0.47602421045303345\n",
      "Epoch 2. Batch 4403/6919. Cost 0.34394872188568115\n",
      "Epoch 2. Batch 5032/6919. Cost 0.4816799461841583\n",
      "Epoch 2. Batch 5661/6919. Cost 0.3718143701553345\n",
      "Epoch 2. Batch 6290/6919. Cost 0.46436554193496704\n",
      "Epoch 3. Batch 0/6919. Cost 2.219066619873047\n",
      "Epoch 3. Batch 629/6919. Cost 0.3585937023162842\n",
      "Epoch 3. Batch 1258/6919. Cost 0.2912474274635315\n",
      "Epoch 3. Batch 1887/6919. Cost 0.40174955129623413\n",
      "Epoch 3. Batch 2516/6919. Cost 0.4093921482563019\n",
      "Epoch 3. Batch 3145/6919. Cost 0.33095595240592957\n",
      "Epoch 3. Batch 3774/6919. Cost 0.38904857635498047\n",
      "Epoch 3. Batch 4403/6919. Cost 0.27602899074554443\n",
      "Epoch 3. Batch 5032/6919. Cost 0.37752199172973633\n",
      "Epoch 3. Batch 5661/6919. Cost 0.3301236927509308\n",
      "Epoch 3. Batch 6290/6919. Cost 0.4686984419822693\n",
      "Epoch 4. Batch 0/6919. Cost 2.2282822132110596\n",
      "Epoch 4. Batch 629/6919. Cost 0.3502167761325836\n",
      "Epoch 4. Batch 1258/6919. Cost 0.26868879795074463\n",
      "Epoch 4. Batch 1887/6919. Cost 0.34573495388031006\n",
      "Epoch 4. Batch 2516/6919. Cost 0.4100014269351959\n",
      "Epoch 4. Batch 3145/6919. Cost 0.3324010372161865\n",
      "Epoch 4. Batch 3774/6919. Cost 0.40503156185150146\n",
      "Epoch 4. Batch 4403/6919. Cost 0.2937885820865631\n",
      "Epoch 4. Batch 5032/6919. Cost 0.4087931215763092\n",
      "Epoch 4. Batch 5661/6919. Cost 0.3300797641277313\n",
      "Epoch 4. Batch 6290/6919. Cost 0.47705960273742676\n",
      "Epoch 5. Batch 0/6919. Cost 2.372959613800049\n",
      "Epoch 5. Batch 629/6919. Cost 0.33194249868392944\n",
      "Epoch 5. Batch 1258/6919. Cost 0.2766702175140381\n",
      "Epoch 5. Batch 1887/6919. Cost 0.3413819670677185\n",
      "Epoch 5. Batch 2516/6919. Cost 0.3690494894981384\n",
      "Epoch 5. Batch 3145/6919. Cost 0.3024478256702423\n",
      "Epoch 5. Batch 3774/6919. Cost 0.40202850103378296\n",
      "Epoch 5. Batch 4403/6919. Cost 0.27255383133888245\n",
      "Epoch 5. Batch 5032/6919. Cost 0.3864341378211975\n",
      "Epoch 5. Batch 5661/6919. Cost 0.31652647256851196\n",
      "Epoch 5. Batch 6290/6919. Cost 0.4094879925251007\n"
     ]
    }
   ],
   "source": [
    "input_seq = [\n",
    "    [input_symbol_to_int.get(symbol, input_symbol_to_int['<UNK>']) \n",
    "        for symbol in line]  \n",
    "    for line in input_sentences  \n",
    "]\n",
    " \n",
    "output_seq = [\n",
    "    [output_symbol_to_int.get(symbol, output_symbol_to_int['<UNK>']) \n",
    "        for symbol in line] + [output_symbol_to_int['<EOS>']]  \n",
    "    for line in output_sentences  \n",
    "]\n",
    "\n",
    "config = tf.ConfigProto(allow_soft_placement=True, log_device_placement=True)\n",
    "with tf.device(\"/device:GPU:0\"):\n",
    "    sess = tf.InteractiveSession(config=config)\n",
    "    sess.run(tf.global_variables_initializer())\n",
    "    saver = tf.train.Saver()  \n",
    "\n",
    "    for epoch in range(NUM_EPOCS + 1):  \n",
    "        for batch_idx in range(len(input_sentences) // BATCH_SIZE): \n",
    "\n",
    "            input_batch, input_lengths, output_batch, output_lengths = [], [], [], []\n",
    "            for sentence in input_sentences[batch_idx:batch_idx + BATCH_SIZE]:\n",
    "                symbol_sent = [input_symbol_to_int[symbol] for symbol in sentence]\n",
    "                padded_symbol_sent = pad(symbol_sent, MAX_CHAR_PER_LINE, input_symbol_to_int['<PAD>'])\n",
    "                input_batch.append(padded_symbol_sent)\n",
    "                input_lengths.append(len(sentence))\n",
    "            for sentence in output_sentences[batch_idx:batch_idx + BATCH_SIZE]:\n",
    "                symbol_sent = [output_symbol_to_int[symbol] for symbol in sentence]\n",
    "                padded_symbol_sent = pad(symbol_sent, MAX_CHAR_PER_LINE, output_symbol_to_int['<PAD>'])\n",
    "                output_batch.append(padded_symbol_sent)\n",
    "                output_lengths.append(len(sentence))\n",
    "\n",
    "            _, cost_val = sess.run( \n",
    "                [train_op, cost],\n",
    "                feed_dict={\n",
    "                    encoder_input_seq: input_batch,\n",
    "                    encoder_seq_len: input_lengths,\n",
    "                    decoder_output_seq: output_batch,\n",
    "                    decoder_seq_len: output_lengths\n",
    "                }\n",
    "            )\n",
    "\n",
    "            if batch_idx % 629 == 0:\n",
    "                print('Epoch {}. Batch {}/{}. Cost {}'.format(epoch, batch_idx, len(input_sentences) // BATCH_SIZE, cost_val))\n",
    "\n",
    "        saver.save(sess, '../models/seq2seq-model.ckpt')   \n",
    "    sess.close()"
   ]
  },
  {
   "cell_type": "code",
   "execution_count": 18,
   "metadata": {},
   "outputs": [
    {
     "name": "stdout",
     "output_type": "stream",
     "text": [
      "WARNING:tensorflow:From /home/mattmann/install/python37/lib/python3.7/site-packages/tensorflow/python/training/saver.py:1276: checkpoint_exists (from tensorflow.python.training.checkpoint_management) is deprecated and will be removed in a future version.\n",
      "Instructions for updating:\n",
      "Use standard file APIs to check for files with this prefix.\n",
      "INFO:tensorflow:Restoring parameters from ../models/seq2seq-model.ckpt\n",
      "well there s someking tel\n"
     ]
    }
   ],
   "source": [
    "sess = tf.InteractiveSession()    \n",
    "saver.restore(sess, '../models/seq2seq-model.ckpt')\n",
    "\n",
    "example_input_sent = \"do you want to play games\"\n",
    "example_input_symb = [input_symbol_to_int[symbol] for symbol in example_input_sent]\n",
    "example_input_batch = [pad(example_input_symb, MAX_CHAR_PER_LINE, input_symbol_to_int['<PAD>'])] * BATCH_SIZE\n",
    "example_input_lengths = [len(example_input_sent)] * BATCH_SIZE\n",
    "\n",
    "output_ints = sess.run(inference_logits, feed_dict={\n",
    "    encoder_input_seq: example_input_batch,\n",
    "    encoder_seq_len: example_input_lengths,\n",
    "    decoder_seq_len: example_input_lengths\n",
    "})[0]\n",
    "\n",
    "output_str = ''.join([output_int_to_symbol[i] for i in output_ints])\n",
    "print(output_str)"
   ]
  },
  {
   "cell_type": "code",
   "execution_count": null,
   "metadata": {},
   "outputs": [],
   "source": []
  }
 ],
 "metadata": {
  "kernelspec": {
   "display_name": "Python 3",
   "language": "python",
   "name": "python3"
  },
  "language_info": {
   "codemirror_mode": {
    "name": "ipython",
    "version": 3
   },
   "file_extension": ".py",
   "mimetype": "text/x-python",
   "name": "python",
   "nbconvert_exporter": "python",
   "pygments_lexer": "ipython3",
   "version": "3.7.7"
  }
 },
 "nbformat": 4,
 "nbformat_minor": 4
}
