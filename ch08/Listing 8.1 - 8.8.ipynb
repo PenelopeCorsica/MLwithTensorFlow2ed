{
 "cells": [
  {
   "cell_type": "markdown",
   "metadata": {},
   "source": [
    "# Automatically Clustering User Walking Activity Data from Android Accelerometer data\n",
    "In Chapter 5 of the book, we learn a few handy techniques. We learn about clustering, and how it fits a model without knowing the features we are trying to extract. Different from classification, we don't know ahead of time the number of classes and/or features. Specifically, the book teaches us about clustering using K-means, and also using Self Organizing Map (SOM). In K-means, we tell the clustering algorithm K, for K clusters, or K classes, and the algorithm automatically clusters the data into these classes. We first try the algorithm out after using a Fourier Transformation to convert audio WAV file signals into discrete pitch classes, and a histogram of counts of pitches per time period. Then, K-means is used to classify 5 sound files about coughing, and screaming into 2 distinct classes based on their pitches. Later in Chapter 5, we learn about how to do segmentation on a single audio file. Segmentation is about taking a single file, and splitting it up into sampling segments (we use 50 on the audio file, a podcast, I also reuse 50 in this assignment, works fine). Then, we can classify the audio segments into different speakers, speaking at specific times. The final task is to learn about Self Organizing Map, and then to use it in a 4 x 4 x 3 (dim) grid to automatically cluster some color data into 4 quadrants. \n",
    "\n",
    "The final chapter assignment is to look at [User Identification from Walking Activity Dataset from the UCI Machine Learning repository](https://archive.ics.uci.edu/ml/datasets/User+Identification+From+Walking+Activity#). The dataset has 22 participants in a CSV format. Each file has 1000s of samples of (time, Xpos, Ypos, Zpos). To get an idea of the dimensionality and what the data looks like, I found a great link with this figure below:\n",
    "\n",
    "![Android Position Model](figs/android_pos_model.png)\n",
    "\n",
    "The dataset was pretty interesting. The first challenge, according to the book is to calculate a histogram of differences in magnitude of the XPos, YPos, ZPos tuple, which it defines as _jerk_. I found a handful of ways to calculate jerk, which is &quot;the 3'rd derivative of position with respect to time, which is the change in acceleration per unit time&quot;, but the easiest way I found was at this [Stack Overflow Post](https://stackoverflow.com/questions/25703792/find-the-shape-of-a-list-of-numbers-straight-line-concave-convex-how-many-hu) which gives this code snippet:\n",
    "\n",
    "```python\n",
    "import numpy as np\n",
    "\n",
    "data = [1, 2, 4, 5, 8, 7, 6, 4, 1]\n",
    "data = np.array(data, dtype=float)\n",
    "velocity = np.diff(data)\n",
    "acceleration = np.diff(velocity)\n",
    "jerk = np.diff(acceleration)\n",
    "jounce = np.diff(jerk)\n",
    "\n",
    "print data\n",
    "print velocity\n",
    "print acceleration\n",
    "print jerk\n",
    "print jounce\n",
    "\n",
    ">>>\n",
    "[ 1.  2.  4.  5.  8.  7.  6.  4.  1.]\n",
    "\n",
    "# positive numbers = rising\n",
    "[ 1.  2.  1.  3. -1. -1. -2. -3.]\n",
    "\n",
    "# positive numbers = concave up\n",
    "[ 1. -1.  2. -4.  0. -1. -1.]\n",
    "\n",
    "# positive numbers = curling up\n",
    "[-2.  3. -6.  4. -1.  0.]\n",
    "\n",
    "# positive numbers = snapping up\n",
    "[  5.  -9.  10.  -5.   1.]\n",
    "```\n",
    "\n",
    "I use that in my own code. I had to go look up what [numpy.diff](https://docs.scipy.org/doc/numpy/reference/generated/numpy.diff.html) did, which is exactly what you would expect it calculates a[n+1] - a[n] for all n in the dataset which is basically how to compute each derivative, velocity, acceleration, and jerk (and jounce, but I didn't use that). \n",
    "\n",
    "After I could compute jerk, the next hardest part was just binning the histograms computed by finding jerk. Here, looking at the data made a big difference. For example if you look at the charts titled [Normalized Jerk Magnitude...](#normalized_jerk_mag) below, you will see something pop out at you. Basically the thing that pops out is that the XYZ at each magnitude has a dominant axis value, similar to in the book where they pick the most dominant frequency per time interval. Here, instead of just the dimension of the most dominant axis (recall, in the book, the dimensions are the Pitches themselves, and simply counting the pitches creates a useful fingerprint), we take the highest magnitude value. To compute that, we use the [tf.reduce_max](https://www.tensorflow.org/api_docs/python/tf/math/reduce_max), along the 1st axis, we get the actual max_jerk magnitude per dimension which is what we want. \n",
    "\n",
    "With the histogram fingerprint per participant, we have a dataset that we can compare against one another, for the summation of their activity. I did K-means clustering then with k=2, and saw a good sampling of [2 distinct clusters](#2k_clusters) among the 22 participants studied. After that, I moved onto to segmentation, and just picked the first participant from the list (11.csv), and then divided up his point samples into 50 sample segments. Then I clustered those. Worked pretty well, since after reading the [Personalization and user verification in wearable systems using biometric walking patterns](https://www.researchgate.net/publication/227192676_Personalization_and_user_verification_in_wearable_systems_using_biometric_walking_patterns) paper that this dataset is based on, it mentions 5 classes of activites, ``Climbing Stairs, Standing, Walking, Talking, Working``. You can see the [5 distinct clusters](#5k_clusters) and the K-means clustering fitting the model pretty well (not sure which label is which, that's for further research!). Finally, I tried out the Self Organizing Map, using a simple 4x4x3 grid as used in the book. Results look decent, with 2 distinct color/clusters forming in the final plot. \n",
    "\n",
    "A very interesting chapter and exercise and dataset! Now, some useful references.\n",
    "\n",
    "## References\n",
    "\n",
    "   1. [Using K-means Clustering with Tensorflow](https://www.altoros.com/blog/using-k-means-clustering-in-tensorflow/) - useful refernce shows how to plot the K-means results.\n",
    "   2. [Multi-column legends in Matplotlib](https://matplotlib.org/1.3.1/users/legend_guide.html#multicolumn-legend) - I needed ths to show the participant histogram b/c there was so many and to not have it overlap or run off the chart.\n",
    "   3. [User Activing from Walking Dataset - UCI](https://archive.ics.uci.edu/ml/datasets/User+Identification+From+Walking+Activity#) - the main dataset used in the notebook and this final project.\n",
    "   4. [Self Organizing Map on Wikipedia](https://en.wikipedia.org/wiki/Self-organizing_map) - was necessary to understand some of the math especially in the assignment step. Has cool animated GIF of an SOM in action.\n",
    "   5. [Dealing with Matplotlib N-D errors](https://stackoverflow.com/questions/44224076/python-3-scatter-plot-gives-valueerror-masked-arrays-must-be-1-d-even-though) - I ran into these when trying to plot my K-means. You need to wrap the dataset in a `[` and `]`.\n",
    "   6. [How to compute Jerk in Python/Numpy](https://stackoverflow.com/questions/25703792/find-the-shape-of-a-list-of-numbers-straight-line-concave-convex-how-many-hu) - Probably the most useful link I ran into, shows how to compute jerk in Python using Numpy. Easy.\n",
    "   7. [Discerning different movements in Android data](https://stackoverflow.com/questions/7152433/detect-specific-shaking-movement-illustrated-d) - The examples are not in Python, but general thoughts about how to compute jerk and what it means when magnitudes shift.\n",
    "   8. [How an Accelerometer Works](https://learn.sparkfun.com/tutorials/accelerometer-basics/all) - Just useful information about accelerometers. Read this when I was stuck trying to understand the data.\n",
    "   9. [Measure data with an Accelerometer - MathWorks](https://www.mathworks.com/help/supportpkg/android/ref/accelerometer.html) - had the super useful graphic I borrowed and cited above. \n",
    "   10. [Identifying steps or walking in an accelerometer](https://dsp.stackexchange.com/questions/32145/identifying-steps-in-walking-accelerometer) - Useful post on how to discern what is going on in accelerometer data.\n",
    "   11. [Physics of calculating jerk](https://physics.stackexchange.com/questions/431595/how-to-calculate-the-jerk-from-acceleration-data) - Extremely useful and simple theory / knowledge about jerk. \n",
    "   12. [Useful Pandas Examples for reading CSVs](https://stackoverflow.com/questions/34091877/how-to-add-header-row-to-a-pandas-dataframe) - Because I always forget. "
   ]
  },
  {
   "cell_type": "code",
   "execution_count": 354,
   "metadata": {},
   "outputs": [],
   "source": [
    "import numpy as np\n",
    "import tensorflow as tf\n",
    "import matplotlib.pyplot as plt\n",
    "import pandas as pd\n",
    "from basic_units import cm, inch"
   ]
  },
  {
   "cell_type": "code",
   "execution_count": 355,
   "metadata": {},
   "outputs": [],
   "source": [
    "k = 2\n",
    "max_iterations = 100"
   ]
  },
  {
   "cell_type": "code",
   "execution_count": 356,
   "metadata": {},
   "outputs": [],
   "source": [
    "filenames = tf.train.match_filenames_once('./User Identification From Walking Activity/*.csv')\n",
    "count_num_files = tf.size(filenames)\n",
    "filename_queue = tf.train.string_input_producer(filenames)\n",
    "reader = tf.WholeFileReader()\n",
    "filename, file_contents = reader.read(filename_queue)"
   ]
  },
  {
   "cell_type": "code",
   "execution_count": 357,
   "metadata": {},
   "outputs": [],
   "source": [
    "jerk = tf.placeholder(tf.float32)\n",
    "max_jerk = tf.reduce_max(jerk, keepdims=True, axis=1)"
   ]
  },
  {
   "cell_type": "code",
   "execution_count": 358,
   "metadata": {},
   "outputs": [],
   "source": [
    "def initial_cluster_centroids(X, k):\n",
    "    return X[0:k, :]"
   ]
  },
  {
   "cell_type": "code",
   "execution_count": 359,
   "metadata": {},
   "outputs": [],
   "source": [
    "def assign_cluster(X, centroids):\n",
    "    expanded_vectors = tf.expand_dims(X, 0) # 1, 5, 12\n",
    "    expanded_centroids = tf.expand_dims(centroids, 1) #2, 1, 12\n",
    "    distances = tf.reduce_sum(tf.square(tf.subtract(expanded_vectors, expanded_centroids)), 2) #2, 5\n",
    "    mins = tf.argmin(distances, 0)\n",
    "    return mins"
   ]
  },
  {
   "cell_type": "code",
   "execution_count": 360,
   "metadata": {},
   "outputs": [],
   "source": [
    "def recompute_centroids(X, Y):\n",
    "    sums = tf.unsorted_segment_sum(X, Y, k)\n",
    "    counts = tf.unsorted_segment_sum(tf.ones_like(X), Y, k)\n",
    "    return sums / counts"
   ]
  },
  {
   "cell_type": "code",
   "execution_count": 368,
   "metadata": {},
   "outputs": [],
   "source": [
    "def extract_feature_vector(sess, x):\n",
    "    x_s = x[:, 1:] # we don't need the time variable\n",
    "    \n",
    "    # compute velocity (v_X), acceleration (a_X) and jerk (j_X)\n",
    "    v_X = np.diff(x_s, axis=0) # velocity\n",
    "    a_X = np.diff(v_X, axis=0) # acceleration\n",
    "    j_X = np.diff(a_X, axis=0) # jerk   \n",
    "    \n",
    "    X = j_X\n",
    "    mJerk = sess.run(max_jerk, feed_dict = {jerk: X})\n",
    "    num_samples, num_features = np.shape(X)\n",
    "    hist, bins = np.histogram(mJerk, bins=range(num_features + 1))\n",
    "    return hist.astype(float) / num_samples"
   ]
  },
  {
   "cell_type": "code",
   "execution_count": 369,
   "metadata": {},
   "outputs": [],
   "source": [
    "def get_dataset(sess):\n",
    "    sess.run(tf.local_variables_initializer()) \n",
    "    num_files = sess.run(count_num_files)\n",
    "\n",
    "    coord = tf.train.Coordinator()\n",
    "    threads = tf.train.start_queue_runners(coord=coord)\n",
    "    accel_files = []\n",
    "    xs = []\n",
    "    for i in range(num_files):\n",
    "        accel_file = sess.run(filename)\n",
    "        accel_file_frame = pd.read_csv(accel_file, header=None, sep=',', \n",
    "                  names = [\"Time\", \"XPos\", \"YPos\", \"ZPos\"])\n",
    "        accel_files.append(accel_file_frame)\n",
    "        print(accel_file)        \n",
    "        x = [extract_feature_vector(sess, accel_file_frame.values)]\n",
    "        x = np.matrix(x)\n",
    "\n",
    "        if len(xs) == 0:\n",
    "            xs = x\n",
    "        else:\n",
    "            xs = np.vstack((xs, x))\n",
    "    return xs    "
   ]
  },
  {
   "cell_type": "code",
   "execution_count": 374,
   "metadata": {
    "scrolled": true
   },
   "outputs": [
    {
     "name": "stdout",
     "output_type": "stream",
     "text": [
      "./User Identification From Walking Activity/11.csv\n",
      "./User Identification From Walking Activity/17.csv\n",
      "./User Identification From Walking Activity/1.csv\n",
      "./User Identification From Walking Activity/21.csv\n",
      "./User Identification From Walking Activity/18.csv\n",
      "./User Identification From Walking Activity/15.csv\n",
      "./User Identification From Walking Activity/14.csv\n",
      "./User Identification From Walking Activity/7.csv\n",
      "./User Identification From Walking Activity/12.csv\n",
      "./User Identification From Walking Activity/16.csv\n",
      "./User Identification From Walking Activity/4.csv\n",
      "./User Identification From Walking Activity/9.csv\n",
      "./User Identification From Walking Activity/20.csv\n",
      "./User Identification From Walking Activity/22.csv\n",
      "./User Identification From Walking Activity/6.csv\n",
      "./User Identification From Walking Activity/10.csv\n",
      "./User Identification From Walking Activity/5.csv\n",
      "./User Identification From Walking Activity/8.csv\n",
      "./User Identification From Walking Activity/3.csv\n",
      "./User Identification From Walking Activity/2.csv\n",
      "./User Identification From Walking Activity/13.csv\n",
      "./User Identification From Walking Activity/19.csv\n",
      "[[0.40521887 0.23630463 0.11820933]\n",
      " [0.59834667 0.14981037 0.05972407]]\n",
      "[0 0 0 1 0 0 1 0 0 0 0 1 0 0 0 0 1 0 1 1 0 1]\n",
      "INFO:tensorflow:Error reported to Coordinator: <class 'tensorflow.python.framework.errors_impl.CancelledError'>, Enqueue operation was cancelled\n",
      "\t [[{{node input_producer_2/input_producer_2_EnqueueMany}}]]\n"
     ]
    }
   ],
   "source": [
    "groups = None\n",
    "with tf.Session() as sess:\n",
    "    X = get_dataset(sess)\n",
    "    centroids = initial_cluster_centroids(X, k)\n",
    "    i, converged = 0, False\n",
    "    while not converged and i < max_iterations:\n",
    "        i += 1\n",
    "        Y = assign_cluster(X, centroids)\n",
    "        centroids = sess.run(recompute_centroids(X, Y))\n",
    "    print(centroids)   \n",
    "    groups = Y.eval()\n",
    "    print(groups)"
   ]
  },
  {
   "cell_type": "code",
   "execution_count": 177,
   "metadata": {},
   "outputs": [
    {
     "data": {
      "text/plain": [
       "<matplotlib.axes._subplots.AxesSubplot at 0x135f8f750>"
      ]
     },
     "execution_count": 177,
     "metadata": {},
     "output_type": "execute_result"
    },
    {
     "data": {
      "image/png": "[encoded data removed]",
      "text/plain": [
       "<matplotlib.figure.Figure at 0x135994f90>"
      ]
     },
     "metadata": {
      "needs_background": "light"
     },
     "output_type": "display_data"
    }
   ],
   "source": [
    "accel_files[0][\"XPos\"].plot.line()\n",
    "accel_files[1][\"XPos\"].plot.line()"
   ]
  },
  {
   "cell_type": "code",
   "execution_count": 178,
   "metadata": {},
   "outputs": [
    {
     "data": {
      "text/plain": [
       "<matplotlib.axes._subplots.AxesSubplot at 0x135fd24d0>"
      ]
     },
     "execution_count": 178,
     "metadata": {},
     "output_type": "execute_result"
    },
    {
     "data": {
      "image/png": "[encoded data removed]",
      "text/plain": [
       "<matplotlib.figure.Figure at 0x135f948d0>"
      ]
     },
     "metadata": {
      "needs_background": "light"
     },
     "output_type": "display_data"
    }
   ],
   "source": [
    "accel_files[0][\"Time\"].plot.line()\n",
    "accel_files[1][\"Time\"].plot.line()"
   ]
  },
  {
   "cell_type": "code",
   "execution_count": 179,
   "metadata": {},
   "outputs": [],
   "source": [
    "num_pts = [len(a_f) for a_f in accel_files]"
   ]
  },
  {
   "cell_type": "code",
   "execution_count": 180,
   "metadata": {},
   "outputs": [
    {
     "data": {
      "text/plain": [
       "(array([4., 9., 3., 1., 1., 1., 0., 1., 0., 2.]),\n",
       " array([  911.,  3019.,  5127.,  7235.,  9343., 11451., 13559., 15667.,\n",
       "        17775., 19883., 21991.]),\n",
       " <a list of 10 Patch objects>)"
      ]
     },
     "execution_count": 180,
     "metadata": {},
     "output_type": "execute_result"
    },
    {
     "data": {
      "image/png": "[encoded data removed]",
      "text/plain": [
       "<matplotlib.figure.Figure at 0x1351d3d90>"
      ]
     },
     "metadata": {
      "needs_background": "light"
     },
     "output_type": "display_data"
    }
   ],
   "source": [
    "plt.hist(num_pts) # the distribution of the sample density for all the participant data "
   ]
  },
  {
   "cell_type": "code",
   "execution_count": 330,
   "metadata": {},
   "outputs": [
    {
     "name": "stdout",
     "output_type": "stream",
     "text": [
      "(22, 3)\n",
      "[[0.46178344 0.19166184 0.09988419]\n",
      " [0.56981841 0.18960551 0.07313713]\n",
      " [0.39266265 0.1996274  0.11708226]\n",
      " [0.66450432 0.11976048 0.042831  ]\n",
      " [0.33636005 0.24161074 0.1547572 ]\n",
      " [0.44086022 0.26896655 0.1166368 ]\n",
      " [0.63598866 0.15931941 0.05413766]\n",
      " [0.49008811 0.1530837  0.0561674 ]\n",
      " [0.56039076 0.11900533 0.08348135]\n",
      " [0.45136668 0.24435276 0.10232078]\n",
      " [0.39536232 0.21391304 0.10550725]\n",
      " [0.35387609 0.30003244 0.15244891]\n",
      " [0.42387999 0.2769106  0.11899453]\n",
      " [0.42764804 0.21080067 0.11134279]\n",
      " [0.61612621 0.16564417 0.05959684]\n",
      " [0.65151023 0.14225398 0.04871712]\n",
      " [0.41604512 0.20379298 0.09982718]\n",
      " [0.37251744 0.27160494 0.14143854]\n",
      " [0.39552636 0.24391976 0.10917806]\n",
      " [0.47972603 0.21178082 0.09808219]\n",
      " [0.36309454 0.24111885 0.11873008]\n",
      " [0.36757408 0.22447603 0.12690918]]\n"
     ]
    }
   ],
   "source": [
    "print(X.shape)\n",
    "print(X)\n",
    "num_samples, num_features = X.shape"
   ]
  },
  {
   "cell_type": "code",
   "execution_count": 332,
   "metadata": {},
   "outputs": [
    {
     "data": {
      "text/plain": [
       "([array([ 0., 13.,  9.]), array([18.,  4.,  0.]), array([22.,  0.,  0.])],\n",
       " array([0.042831  , 0.25005544, 0.45727988, 0.66450432]),\n",
       " <a list of 3 Lists of Patches objects>)"
      ]
     },
     "execution_count": 332,
     "metadata": {},
     "output_type": "execute_result"
    },
    {
     "data": {
      "image/png": "[encoded data removed]",
      "text/plain": [
       "<matplotlib.figure.Figure at 0x139006110>"
      ]
     },
     "metadata": {
      "needs_background": "light"
     },
     "output_type": "display_data"
    }
   ],
   "source": [
    "plt.hist(X, num_features, histtype='bar')"
   ]
  },
  {
   "cell_type": "code",
   "execution_count": 325,
   "metadata": {},
   "outputs": [
    {
     "name": "stdout",
     "output_type": "stream",
     "text": [
      "(1, 3)\n"
     ]
    }
   ],
   "source": [
    "print(X[0].shape)"
   ]
  },
  {
   "cell_type": "code",
   "execution_count": 345,
   "metadata": {},
   "outputs": [
    {
     "name": "stdout",
     "output_type": "stream",
     "text": [
      "[[0.46178344 0.19166184 0.09988419]]\n",
      "[0.18540254 0.59914858 0.12851295]\n"
     ]
    }
   ],
   "source": [
    "print(X[0])\n",
    "print(np.random.rand(3, 1).flatten())"
   ]
  },
  {
   "cell_type": "code",
   "execution_count": 420,
   "metadata": {
    "scrolled": true
   },
   "outputs": [
    {
     "name": "stdout",
     "output_type": "stream",
     "text": [
      "[6.81818182e-04 1.00068182e+00 2.00068182e+00]\n"
     ]
    },
    {
     "data": {
      "image/png": "[encoded data removed]",
      "text/plain": [
       "<matplotlib.figure.Figure at 0x14c3105d0>"
      ]
     },
     "metadata": {
      "needs_background": "light"
     },
     "output_type": "display_data"
    }
   ],
   "source": [
    "labels=['X', 'Y', 'Z']\n",
    "fig, ax = plt.subplots()\n",
    "ind = np.arange(len(labels))\n",
    "width = 0.015 \n",
    "plots = []\n",
    "colors = [np.random.rand(3,1).flatten() for i in range(num_samples)]\n",
    "\n",
    "for i in range(num_samples):\n",
    "    Xs = np.asarray(X[i]).reshape(-1)\n",
    "    p = ax.bar(ind + i*width, Xs, width, color=colors[i])\n",
    "    plots.append(p[0])\n",
    "\n",
    "xticks = ind + width / (num_samples)\n",
    "print(xticks)\n",
    "ax.legend(tuple(plots), tuple(['P'+str(i+1) for i in range(num_samples)]), ncol=4)\n",
    "ax.yaxis.set_units(inch)\n",
    "ax.autoscale_view()\n",
    "ax.set_xticks(xticks)\n",
    "ax.set_xticklabels(labels)\n",
    "\n",
    "ax.set_ylabel('Normalized jerk count')\n",
    "ax.set_xlabel('Position (X, Y, Z)')\n",
    "ax.set_title('Normalized jerk magnitude counts for Various Participants')\n",
    "plt.show()"
   ]
  },
  {
   "cell_type": "markdown",
   "metadata": {},
   "source": [
    "<a name=\"normalized_jerk_mag\"></a>"
   ]
  },
  {
   "cell_type": "code",
   "execution_count": 417,
   "metadata": {},
   "outputs": [
    {
     "name": "stdout",
     "output_type": "stream",
     "text": [
      "[0 0 0 1 0 0 1 0 0 0 0 1 0 0 0 0 1 0 1 1 0 1]\n",
      "[[0.39552636 0.24391976 0.10917806]]\n"
     ]
    },
    {
     "data": {
      "image/png": "[encoded data removed]",
      "text/plain": [
       "<matplotlib.figure.Figure at 0x14bc39e50>"
      ]
     },
     "metadata": {
      "needs_background": "light"
     },
     "output_type": "display_data"
    }
   ],
   "source": [
    "print(groups)\n",
    "print(X[0, :].flatten().reshape(-1)[:])\n",
    "plt.scatter([X[:, 0]], [X[:, 1]], c=groups, s=50, alpha=0.5)\n",
    "plt.plot([centroids[:, 0]], [centroids[:, 1]], 'kx', markersize=15)\n",
    "plt.show()"
   ]
  },
  {
   "cell_type": "markdown",
   "metadata": {},
   "source": [
    "<a name=\"2k_clusters\"></a>"
   ]
  },
  {
   "cell_type": "markdown",
   "metadata": {},
   "source": [
    "# Segmentation\n",
    "Now we will try out segmentation as described in the book. Instead of treating each individual participant file as a whole, segmentation takes one file, and splits it into N segments. "
   ]
  },
  {
   "cell_type": "code",
   "execution_count": 460,
   "metadata": {},
   "outputs": [],
   "source": [
    "segment_size = 50\n",
    "k = 5 # Climbing Stairs, Standing, Walking, Talking, Working from the paper"
   ]
  },
  {
   "cell_type": "code",
   "execution_count": 461,
   "metadata": {},
   "outputs": [],
   "source": [
    "def get_accel_data(accel_file):\n",
    "    accel_file_frame = pd.read_csv(accel_file, header=None, sep=',', \n",
    "                  names = [\"Time\", \"XPos\", \"YPos\", \"ZPos\"])\n",
    "    return accel_file_frame.values"
   ]
  },
  {
   "cell_type": "code",
   "execution_count": 462,
   "metadata": {},
   "outputs": [],
   "source": [
    "def get_dataset_segmented(sess, accel_file):\n",
    "    accel_data = get_accel_data(accel_file)\n",
    "    print('accel_data', np.shape(accel_data))\n",
    "    accel_length = np.shape(accel_data)[0]\n",
    "    print('accel_length', accel_length)\n",
    "    xs = []\n",
    "    \n",
    "    for i in range(accel_length / segment_size):\n",
    "        accel_segment = accel_data[i*segment_size:(i+1)*segment_size, :]\n",
    "        x = extract_feature_vector(sess, accel_segment)\n",
    "        x = np.matrix(x)\n",
    "\n",
    "        if len(xs) == 0:\n",
    "            xs = x\n",
    "        else:\n",
    "            xs = np.vstack((xs, x))\n",
    "    return accel_data, xs   "
   ]
  },
  {
   "cell_type": "code",
   "execution_count": 463,
   "metadata": {},
   "outputs": [
    {
     "name": "stdout",
     "output_type": "stream",
     "text": [
      "5\n"
     ]
    }
   ],
   "source": [
    "print(k)"
   ]
  },
  {
   "cell_type": "code",
   "execution_count": 464,
   "metadata": {},
   "outputs": [
    {
     "name": "stdout",
     "output_type": "stream",
     "text": [
      "('accel_data', (5636, 4))\n",
      "('accel_length', 5636)\n",
      "('iteration', 50)\n",
      "('iteration', 100)\n",
      "('Num segments ', '112')\n",
      "('0.0m 0.0s', 2)\n",
      "('0.0m 1.6802s', 2)\n",
      "('0.0m 3.2303s', 3)\n",
      "('0.0m 4.7304s', 3)\n",
      "('0.0m 6.2403s', 2)\n",
      "('0.0m 7.7403s', 1)\n",
      "('0.0m 9.2401s', 1)\n",
      "('0.0m 10.78s', 1)\n",
      "('0.0m 12.37s', 1)\n",
      "('0.0m 13.87s', 0)\n",
      "('0.0m 15.37s', 0)\n",
      "('0.0m 16.89s', 4)\n",
      "('0.0m 18.39s', 4)\n",
      "('0.0m 19.89s', 0)\n",
      "('0.0m 21.39s', 0)\n",
      "('0.0m 22.89s', 0)\n",
      "('0.0m 24.401s', 4)\n",
      "('0.0m 25.96s', 0)\n",
      "('0.0m 27.47s', 1)\n",
      "('0.0m 28.98s', 0)\n",
      "('0.0m 30.48s', 0)\n",
      "('0.0m 31.98s', 0)\n",
      "('0.0m 33.611s', 0)\n",
      "('0.0m 35.161s', 4)\n",
      "('0.0m 37.108s', 0)\n",
      "('0.0m 38.8s', 4)\n",
      "('0.0m 40.36s', 0)\n",
      "('0.0m 41.87s', 0)\n",
      "('0.0m 43.37s', 0)\n",
      "('0.0m 45.02s', 0)\n",
      "('0.0m 46.69s', 0)\n",
      "('0.0m 48.19s', 0)\n",
      "('0.0m 49.82s', 0)\n",
      "('0.0m 51.34s', 0)\n",
      "('0.0m 52.84s', 4)\n",
      "('0.0m 54.46s', 0)\n",
      "('0.0m 56.06s', 4)\n",
      "('0.0m 57.56s', 0)\n",
      "('0.0m 59.06s', 4)\n",
      "('1.0m 0.56s', 4)\n",
      "('1.0m 2.1s', 0)\n",
      "('1.0m 3.68s', 0)\n",
      "('1.0m 5.19s', 4)\n",
      "('1.0m 6.69s', 4)\n",
      "('1.0m 8.19s', 4)\n",
      "('1.0m 9.73s', 4)\n",
      "('1.0m 11.24s', 4)\n",
      "('1.0m 12.74s', 0)\n",
      "('1.0m 14.24s', 4)\n",
      "('1.0m 15.74s', 0)\n",
      "('1.0m 17.24s', 0)\n",
      "('1.0m 18.74s', 4)\n",
      "('1.0m 20.24s', 0)\n",
      "('1.0m 21.74s', 2)\n",
      "('1.0m 23.25s', 4)\n",
      "('1.0m 24.75s', 0)\n",
      "('1.0m 26.25s', 4)\n",
      "('1.0m 27.75s', 2)\n",
      "('1.0m 29.25s', 0)\n",
      "('1.0m 30.83s', 4)\n",
      "('1.0m 32.33s', 4)\n",
      "('1.0m 33.83s', 0)\n",
      "('1.0m 35.33s', 4)\n",
      "('1.0m 36.83s', 4)\n",
      "('1.0m 38.44s', 4)\n",
      "('1.0m 39.99s', 0)\n",
      "('1.0m 41.5s', 0)\n",
      "('1.0m 43.0s', 0)\n",
      "('1.0m 44.53s', 4)\n",
      "('1.0m 46.08s', 4)\n",
      "('1.0m 47.6s', 4)\n",
      "('1.0m 49.11s', 4)\n",
      "('1.0m 50.74s', 4)\n",
      "('1.0m 52.24s', 4)\n",
      "('1.0m 53.75s', 0)\n",
      "('1.0m 55.25s', 4)\n",
      "('1.0m 56.82s', 4)\n",
      "('1.0m 58.37s', 0)\n",
      "('1.0m 59.87s', 0)\n",
      "('2.0m 1.37s', 4)\n",
      "('2.0m 2.87s', 4)\n",
      "('2.0m 4.44s', 0)\n",
      "('2.0m 5.94s', 4)\n",
      "('2.0m 7.46s', 4)\n",
      "('2.0m 8.99s', 0)\n",
      "('2.0m 10.49s', 0)\n",
      "('2.0m 11.99s', 4)\n",
      "('2.0m 13.49s', 0)\n",
      "('2.0m 14.99s', 4)\n",
      "('2.0m 16.49s', 4)\n",
      "('2.0m 17.99s', 4)\n",
      "('2.0m 19.49s', 4)\n",
      "('2.0m 20.99s', 2)\n",
      "('2.0m 22.49s', 2)\n",
      "('2.0m 24.09s', 0)\n",
      "('2.0m 25.59s', 0)\n",
      "('2.0m 27.09s', 0)\n",
      "('2.0m 28.59s', 4)\n",
      "('2.0m 30.28s', 4)\n",
      "('2.0m 31.96s', 4)\n",
      "('2.0m 33.47s', 0)\n",
      "('2.0m 34.97s', 4)\n",
      "('2.0m 36.48s', 4)\n",
      "('2.0m 38.2s', 0)\n",
      "('2.0m 39.79s', 0)\n",
      "('2.0m 41.34s', 2)\n",
      "('2.0m 42.84s', 2)\n",
      "('2.0m 44.35s', 1)\n",
      "('2.0m 46.19s', 1)\n",
      "('2.0m 47.7s', 1)\n",
      "('2.0m 49.2s', 0)\n",
      "('2.0m 50.79s', 1)\n"
     ]
    }
   ],
   "source": [
    "with tf.Session() as sess:\n",
    "    tf.global_variables_initializer()\n",
    "    accel_data, X1 = get_dataset_segmented(sess, \"./User Identification From Walking Activity/11.csv\")\n",
    "\n",
    "    centroids = initial_cluster_centroids(X1, k)\n",
    "    i, converged = 0, False\n",
    "    while not converged and i < max_iterations:\n",
    "        i += 1\n",
    "        Y1 = assign_cluster(X1, centroids)\n",
    "        centroids = sess.run(recompute_centroids(X1, Y1))\n",
    "        if i % 50 == 0:\n",
    "            print('iteration', i)\n",
    "    segments = sess.run(Y1)\n",
    "    print('Num segments ', str(len(segments)))\n",
    "    for i in range(len(segments)):\n",
    "        #seconds = (i * segment_size) / float(10)\n",
    "        seconds = accel_data[(i * segment_size)][0]\n",
    "        min, sec = divmod(seconds, 60)\n",
    "        time_str = '{}m {}s'.format(min, sec)\n",
    "        print(time_str, segments[i])"
   ]
  },
  {
   "cell_type": "code",
   "execution_count": 467,
   "metadata": {},
   "outputs": [
    {
     "name": "stdout",
     "output_type": "stream",
     "text": [
      "[2 2 3 3 2 1 1 1 1 0 0 4 4 0 0 0 4 0 1 0 0 0 0 4 0 4 0 0 0 0 0 0 0 0 4 0 4\n",
      " 0 4 4 0 0 4 4 4 4 4 0 4 0 0 4 0 2 4 0 4 2 0 4 4 0 4 4 4 0 0 0 4 4 4 4 4 4\n",
      " 0 4 4 0 0 4 4 0 4 4 0 0 4 0 4 4 4 4 2 2 0 0 0 4 4 4 0 4 4 0 0 2 2 1 1 1 0\n",
      " 1]\n"
     ]
    },
    {
     "data": {
      "image/png": "[encoded data removed]",
      "text/plain": [
       "<matplotlib.figure.Figure at 0x14c38a950>"
      ]
     },
     "metadata": {
      "needs_background": "light"
     },
     "output_type": "display_data"
    }
   ],
   "source": [
    "print(segments)\n",
    "plt.scatter([X1[:, 0]], [X1[:, 1]], c=segments, s=50, alpha=0.5)\n",
    "plt.plot([centroids[:, 0]], [centroids[:, 1]], 'kx', markersize=15)\n",
    "plt.show()"
   ]
  },
  {
   "cell_type": "markdown",
   "metadata": {},
   "source": [
    "<a name=\"5k_clusters\"></a>"
   ]
  },
  {
   "cell_type": "markdown",
   "metadata": {},
   "source": [
    "# Try the Self Organizing Map\n",
    "To try the self organizing map from the book, we need to come up with a dimensional grid and let the SOM automatically discern the classes on its own. We'll use a 4 x 4 grid, with our 3 dimensional X vector of participants."
   ]
  },
  {
   "cell_type": "code",
   "execution_count": 468,
   "metadata": {},
   "outputs": [],
   "source": [
    "class SOM:\n",
    "    \n",
    "    def __init__(self, width, height, dim):\n",
    "        self.num_iters = 100\n",
    "        self.width = width\n",
    "        self.height = height\n",
    "        self.dim = dim\n",
    "        self.node_locs = self.get_locs()\n",
    "        nodes = tf.Variable(tf.random_normal([width*height, dim]))\n",
    "        self.nodes = nodes\n",
    "        x = tf.placeholder(tf.float32, [dim]) \n",
    "        self.x = x \n",
    "        iter = tf.placeholder(tf.float32)\n",
    "        self.iter = iter \n",
    "        bmu_loc = self.get_bmu_loc(x)\n",
    "        self.propagate_nodes = self.get_propagation(bmu_loc, x, iter)\n",
    "        \n",
    "    def get_propagation(self, bmu_loc, x, iter):\n",
    "        num_nodes = self.width * self.height\n",
    "        rate = 1.0 - tf.div(iter, self.num_iters)\n",
    "        alpha = rate * 0.5\n",
    "        sigma = rate * tf.to_float(tf.maximum(self.width, self.height)) / 2.\n",
    "        expanded_bmu_loc = tf.expand_dims(tf.to_float(bmu_loc), 0)\n",
    "        sqr_dists_from_bmu = tf.reduce_sum(\n",
    "          tf.square(tf.subtract(expanded_bmu_loc, self.node_locs)), 1)\n",
    "        neigh_factor = tf.exp(-tf.div(sqr_dists_from_bmu, 2 * tf.square(sigma)))\n",
    "        rate = tf.multiply(alpha, neigh_factor)\n",
    "        rate_factor = tf.stack([tf.tile(tf.slice(rate, [i], [1]), [self.dim]) for i in range(num_nodes)])\n",
    "        nodes_diff = tf.multiply(rate_factor, tf.subtract(tf.stack([x for i in range(num_nodes)]), self.nodes))\n",
    "        update_nodes = tf.add(self.nodes, nodes_diff)\n",
    "        return tf.assign(self.nodes, update_nodes)\n",
    "    \n",
    "    def get_bmu_loc(self, x):\n",
    "        expanded_x = tf.expand_dims(x, 0)\n",
    "        sqr_diff = tf.square(tf.subtract(expanded_x, self.nodes))\n",
    "        dists = tf.reduce_sum(sqr_diff, 1)\n",
    "        bmu_idx = tf.argmin(dists, 0)\n",
    "        bmu_loc = tf.stack([tf.mod(bmu_idx, self.width), tf.div(bmu_idx, self.width)])\n",
    "        return bmu_loc\n",
    "    \n",
    "    def get_locs(self):\n",
    "        locs = [[x, y]\n",
    "                 for y in range(self.height)\n",
    "                 for x in range(self.width)]\n",
    "        return tf.to_float(locs)\n",
    "\n",
    "    def train(self, data):\n",
    "        with tf.Session() as sess:\n",
    "            sess.run(tf.global_variables_initializer())\n",
    "            for i in range(self.num_iters):\n",
    "                for data_x in data:\n",
    "                    sess.run(self.propagate_nodes, feed_dict={self.x: data_x, self.iter: i})\n",
    "            centroid_grid = [[] for i in range(self.width)]\n",
    "            self.nodes_val = list(sess.run(self.nodes))\n",
    "            self.locs_val = list(sess.run(self.node_locs))\n",
    "            for i, l in enumerate(self.locs_val):\n",
    "                centroid_grid[int(l[0])].append(self.nodes_val[i])\n",
    "            self.centroid_grid = centroid_grid\n"
   ]
  },
  {
   "cell_type": "code",
   "execution_count": 482,
   "metadata": {},
   "outputs": [
    {
     "name": "stdout",
     "output_type": "stream",
     "text": [
      "[[0.39552636 0.24391976 0.10917806]\n",
      " [0.41604512 0.20379298 0.09982718]\n",
      " [0.33636005 0.24161074 0.1547572 ]\n",
      " [0.65151023 0.14225398 0.04871712]\n",
      " [0.36757408 0.22447603 0.12690918]\n",
      " [0.47972603 0.21178082 0.09808219]\n",
      " [0.66450432 0.11976048 0.042831  ]\n",
      " [0.37251744 0.27160494 0.14143854]\n",
      " [0.42764804 0.21080067 0.11134279]\n",
      " [0.39536232 0.21391304 0.10550725]\n",
      " [0.39266265 0.1996274  0.11708226]\n",
      " [0.56981841 0.18960551 0.07313713]\n",
      " [0.36309454 0.24111885 0.11873008]\n",
      " [0.45136668 0.24435276 0.10232078]\n",
      " [0.42387999 0.2769106  0.11899453]\n",
      " [0.35387609 0.30003244 0.15244891]\n",
      " [0.56039076 0.11900533 0.08348135]\n",
      " [0.46178344 0.19166184 0.09988419]\n",
      " [0.61612621 0.16564417 0.05959684]\n",
      " [0.63598866 0.15931941 0.05413766]\n",
      " [0.44086022 0.26896655 0.1166368 ]\n",
      " [0.49008811 0.1530837  0.0561674 ]]\n",
      "(22, 3)\n"
     ]
    }
   ],
   "source": [
    "print(np.array(X))\n",
    "print(X.shape)"
   ]
  },
  {
   "cell_type": "code",
   "execution_count": 483,
   "metadata": {},
   "outputs": [
    {
     "data": {
      "image/png": "[encoded data removed]",
      "text/plain": [
       "<matplotlib.figure.Figure at 0x155ceb490>"
      ]
     },
     "metadata": {
      "needs_background": "light"
     },
     "output_type": "display_data"
    }
   ],
   "source": [
    "som = SOM(4, 4, 3)\n",
    "som.train(np.array(X))\n",
    "plt.imshow(som.centroid_grid)\n",
    "plt.show()"
   ]
  },
  {
   "cell_type": "code",
   "execution_count": null,
   "metadata": {},
   "outputs": [],
   "source": []
  }
 ],
 "metadata": {
  "kernelspec": {
   "display_name": "Python 2",
   "language": "python",
   "name": "python2"
  },
  "language_info": {
   "codemirror_mode": {
    "name": "ipython",
    "version": 2
   },
   "file_extension": ".py",
   "mimetype": "text/x-python",
   "name": "python",
   "nbconvert_exporter": "python",
   "pygments_lexer": "ipython2",
   "version": "2.7.14"
  }
 },
 "nbformat": 4,
 "nbformat_minor": 2
}
