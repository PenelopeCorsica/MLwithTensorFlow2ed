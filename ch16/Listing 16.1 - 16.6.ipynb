{
 "cells": [
  {
   "cell_type": "code",
   "execution_count": 1,
   "metadata": {},
   "outputs": [],
   "source": [
    "import numpy as np\n",
    "import tensorflow as tf\n",
    "from tensorflow.contrib import rnn"
   ]
  },
  {
   "cell_type": "code",
   "execution_count": 2,
   "metadata": {},
   "outputs": [],
   "source": [
    "class SeriesPredictor:\n",
    "    def __init__(self, input_dim, seq_size, hidden_dim=10):\n",
    "        self.input_dim = input_dim\n",
    "        self.seq_size = seq_size\n",
    "        self.hidden_dim = hidden_dim\n",
    "        \n",
    "        self.W_out = tf.Variable(tf.random_normal([hidden_dim, 1]), name='W_out')\n",
    "        self.b_out = tf.Variable(tf.random_normal([1]), name='b_out')\n",
    "        self.x = tf.placeholder(tf.float32, [None, seq_size, input_dim])\n",
    "        self.y = tf.placeholder(tf.float32, [None, seq_size])\n",
    "        self.cost = tf.reduce_mean(tf.square(self.model() - self.y)) \n",
    "        self.train_op = tf.train.AdamOptimizer().minimize(self.cost)\n",
    "        self.saver = tf.train.Saver()\n",
    "        \n",
    "    def model(self): \n",
    "        \"\"\"\n",
    "        :param x: inputs of size [T, batch_size, input_size] \n",
    "        :param W: matrix of fully-connected output layer weights \n",
    "        :param b: vector of fully-connected output layer biases \n",
    "        \"\"\"\n",
    "\n",
    "        cell = rnn.BasicLSTMCell(self.hidden_dim)\n",
    "        outputs, states = tf.nn.dynamic_rnn(cell, self.x, dtype=tf.float32)\n",
    "        num_examples = tf.shape(self.x)[0]\n",
    "        print('Shape '+str(np.shape(self.x))) # this turns out to be [3, 4, 1] - 3 samples of size 4 in a matrix\n",
    "        print('Num Ex: '+str(np.shape(self.x)[0])) # this is 3 for self.x\n",
    "        W_repeated = tf.tile(tf.expand_dims(self.W_out, 0), [num_examples, 1, 1]) # creates repeated array of [10, 1, 1] * [3, 1, 1] - our \"memory\" of what we picked for each hidden dim in the 3 states\n",
    "        out = tf.matmul(outputs, W_repeated) + self.b_out # [batch_size, max_time, cell.output_size] so [3, 3, 10] * [30, 1, 1] + [3]\n",
    "        out = tf.squeeze(out) # removes all size 1 dimensions, so takes us down from \n",
    "        return out\n",
    "    \n",
    "    def train(self, train_x, train_y):\n",
    "        with tf.Session() as sess:\n",
    "            tf.get_variable_scope().reuse_variables()\n",
    "            sess.run(tf.global_variables_initializer())\n",
    "            for i in range(1000):\n",
    "                _, mse = sess.run([self.train_op, self.cost], feed_dict={self.x: train_x, self.y: train_y})\n",
    "                if i % 100 == 0:\n",
    "                    print(i, mse)\n",
    "            save_path = self.saver.save(sess, '../models/ch16-model.ckpt')\n",
    "            print('Model saved to {}'.format(save_path))\n",
    "            \n",
    "    def test(self, test_x):\n",
    "        with tf.Session() as sess:\n",
    "            tf.get_variable_scope().reuse_variables()\n",
    "            self.saver.restore(sess, '../models/ch16-model.ckpt')\n",
    "            output = sess.run(self.model(), feed_dict={self.x: test_x})\n",
    "            print(output)"
   ]
  },
  {
   "cell_type": "code",
   "execution_count": 3,
   "metadata": {},
   "outputs": [
    {
     "name": "stderr",
     "output_type": "stream",
     "text": [
      "WARNING: Logging before flag parsing goes to stderr.\n",
      "W0802 10:33:08.541146 4554970560 deprecation.py:323] From <ipython-input-2-890184176c8a>:22: BasicLSTMCell.__init__ (from tensorflow.python.ops.rnn_cell_impl) is deprecated and will be removed in a future version.\n",
      "Instructions for updating:\n",
      "This class is equivalent as tf.keras.layers.LSTMCell, and will be replaced by that in Tensorflow 2.0.\n",
      "W0802 10:33:08.542406 4554970560 deprecation.py:323] From <ipython-input-2-890184176c8a>:23: dynamic_rnn (from tensorflow.python.ops.rnn) is deprecated and will be removed in a future version.\n",
      "Instructions for updating:\n",
      "Please use `keras.layers.RNN(cell)`, which is equivalent to this API\n",
      "W0802 10:33:08.592143 4554970560 deprecation.py:323] From /Users/mattmann/git/buildout.python/python-3.7/lib/python3.7/site-packages/tensorflow_core/python/ops/rnn_cell_impl.py:735: Layer.add_variable (from tensorflow.python.keras.engine.base_layer) is deprecated and will be removed in a future version.\n",
      "Instructions for updating:\n",
      "Please use `layer.add_weight` method instead.\n",
      "W0802 10:33:08.598670 4554970560 deprecation.py:506] From /Users/mattmann/git/buildout.python/python-3.7/lib/python3.7/site-packages/tensorflow_core/python/ops/rnn_cell_impl.py:739: calling Zeros.__init__ (from tensorflow.python.ops.init_ops) with dtype is deprecated and will be removed in a future version.\n",
      "Instructions for updating:\n",
      "Call initializer instance with the dtype argument instead of passing it to the constructor\n"
     ]
    },
    {
     "name": "stdout",
     "output_type": "stream",
     "text": [
      "Shape (?, 4, 1)\n",
      "Num Ex: ?\n",
      "0 85.54771\n",
      "100 59.58133\n",
      "200 34.74611\n",
      "300 22.044367\n",
      "400 11.355663\n",
      "500 8.089295\n",
      "600 6.232077\n",
      "700 4.643535\n",
      "800 3.5185144\n",
      "900 2.7564201\n",
      "Model saved to ../models/ch16-model.ckpt\n",
      "Shape (?, 4, 1)\n",
      "Num Ex: ?\n",
      "[[ 1.0581387  2.769493   5.3942537  7.799148 ]\n",
      " [ 4.250075   9.052462  11.027655  11.472687 ]]\n"
     ]
    }
   ],
   "source": [
    "predictor = SeriesPredictor(input_dim=1, seq_size=4, hidden_dim=10)\n",
    "train_x = [[[1], [2], [5], [6]],\n",
    "           [[5], [7], [7], [8]],\n",
    "           [[3], [4], [5], [7]]]\n",
    "train_y = [[1, 3, 7, 11],\n",
    "           [5, 12, 14, 15],\n",
    "           [3, 7, 9, 12]]\n",
    "predictor.train(train_x, train_y)\n",
    "test_x = [[[1], [2], [3], [4]],\n",
    "          [[4], [5], [6], [7]]]\n",
    "predictor.test(test_x)"
   ]
  },
  {
   "cell_type": "code",
   "execution_count": null,
   "metadata": {},
   "outputs": [],
   "source": []
  }
 ],
 "metadata": {
  "kernelspec": {
   "display_name": "Python 3",
   "language": "python",
   "name": "python3"
  },
  "language_info": {
   "codemirror_mode": {
    "name": "ipython",
    "version": 3
   },
   "file_extension": ".py",
   "mimetype": "text/x-python",
   "name": "python",
   "nbconvert_exporter": "python",
   "pygments_lexer": "ipython3",
   "version": "3.7.0b1"
  }
 },
 "nbformat": 4,
 "nbformat_minor": 2
}
