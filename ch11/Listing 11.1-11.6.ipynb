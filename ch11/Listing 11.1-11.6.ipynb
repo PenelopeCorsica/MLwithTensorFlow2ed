{
 "cells": [
  {
   "cell_type": "code",
   "execution_count": 1,
   "metadata": {},
   "outputs": [],
   "source": [
    "import tensorflow as tf\n",
    "import numpy as np\n",
    "from sklearn import datasets"
   ]
  },
  {
   "cell_type": "code",
   "execution_count": 2,
   "metadata": {},
   "outputs": [],
   "source": [
    "class Autoencoder:\n",
    "    def __init__(self, input_dim, hidden_dim, epoch=250, learning_rate=0.001):\n",
    "        self.epoch = epoch\n",
    "        self.learning_rate = learning_rate\n",
    "        x = tf.placeholder(dtype=tf.float32, shape=[None, input_dim])\n",
    "        with tf.name_scope('encode'):\n",
    "            weights = tf.Variable(tf.random_normal([input_dim, hidden_dim], dtype=tf.float32), name='weights')\n",
    "            biases = tf.Variable(tf.zeros([hidden_dim]), name='biases')\n",
    "            encoded = tf.nn.tanh(tf.matmul(x, weights) + biases)\n",
    "        with tf.name_scope('decode'):\n",
    "            weights = tf.Variable(tf.random_normal([hidden_dim, input_dim], dtype=tf.float32), name='weights')\n",
    "            biases = tf.Variable(tf.zeros([input_dim]), name='biases')\n",
    "            decoded = tf.matmul(encoded, weights) + biases\n",
    "        \n",
    "        self.x = x\n",
    "        self.encoded = encoded\n",
    "        self.decoded = decoded\n",
    "        self.loss = tf.sqrt(tf.reduce_mean(tf.square(tf.subtract(self.x, self.decoded))))\n",
    "        self.train_op = tf.train.RMSPropOptimizer(self.learning_rate).minimize(self.loss)\n",
    "        self.saver = tf.train.Saver()\n",
    "        \n",
    "    def train(self, data):\n",
    "        num_samples = len(data)\n",
    "        \n",
    "        with tf.Session() as sess:\n",
    "            loss_summary = tf.summary.scalar(\"loss\", self.loss)\n",
    "            merged = tf.summary.merge_all()\n",
    "            writer = tf.summary.FileWriter(\"./logs\")\n",
    "            writer.add_graph(sess.graph)\n",
    "            sess.run(tf.global_variables_initializer())\n",
    "            for i in range(self.epoch):\n",
    "                for j in range(num_samples):\n",
    "                    summary_str, l, _ = sess.run([merged, self.loss, self.train_op], feed_dict={self.x: [data[j]]})\n",
    "                    writer.add_summary(summary_str, i)  \n",
    "                if i % 10 == 0:\n",
    "                    print('epoch {0}: loss = {1}'.format(i, l))\n",
    "                    self.saver.save(sess, './model.ckpt') \n",
    "            self.saver.save(sess, './model.ckpt')\n",
    "            \n",
    "    def test(self, data): \n",
    "        with tf.Session() as sess:\n",
    "            self.saver.restore(sess, './model.ckpt')\n",
    "            hidden, reconstructed = sess.run([self.encoded, self.decoded], feed_dict={self.x: data})\n",
    "        print('input', data)\n",
    "        print('compressed', hidden)\n",
    "        print('reconstructed', reconstructed)\n",
    "        return reconstructed"
   ]
  },
  {
   "cell_type": "code",
   "execution_count": 3,
   "metadata": {},
   "outputs": [
    {
     "name": "stdout",
     "output_type": "stream",
     "text": [
      "WARNING:tensorflow:From /Users/mattmann/git/buildout.python/python-3.7/lib/python3.7/site-packages/tensorflow/python/framework/op_def_library.py:263: colocate_with (from tensorflow.python.framework.ops) is deprecated and will be removed in a future version.\n",
      "Instructions for updating:\n",
      "Colocations handled automatically by placer.\n",
      "epoch 0: loss = 4.16321325302124\n",
      "epoch 10: loss = 2.2118756771087646\n",
      "epoch 20: loss = 0.8783564567565918\n",
      "epoch 30: loss = 0.48283419013023376\n",
      "epoch 40: loss = 0.41726112365722656\n",
      "epoch 50: loss = 0.40935632586479187\n",
      "epoch 60: loss = 0.4083385467529297\n",
      "epoch 70: loss = 0.40829169750213623\n",
      "epoch 80: loss = 0.4084678292274475\n",
      "epoch 90: loss = 0.4091434180736542\n",
      "epoch 100: loss = 0.4116896986961365\n",
      "epoch 110: loss = 0.41778191924095154\n",
      "epoch 120: loss = 0.4105755388736725\n",
      "epoch 130: loss = 0.3709574043750763\n",
      "epoch 140: loss = 0.3570749759674072\n",
      "epoch 150: loss = 0.35071608424186707\n",
      "epoch 160: loss = 0.3419930338859558\n",
      "epoch 170: loss = 0.3313843309879303\n",
      "epoch 180: loss = 0.3174893260002136\n",
      "epoch 190: loss = 0.3006332516670227\n",
      "epoch 200: loss = 0.2828517258167267\n",
      "epoch 210: loss = 0.2661285400390625\n",
      "epoch 220: loss = 0.25069692730903625\n",
      "epoch 230: loss = 0.23788663744926453\n",
      "epoch 240: loss = 0.2296089380979538\n",
      "WARNING:tensorflow:From /Users/mattmann/git/buildout.python/python-3.7/lib/python3.7/site-packages/tensorflow/python/training/saver.py:1266: checkpoint_exists (from tensorflow.python.training.checkpoint_management) is deprecated and will be removed in a future version.\n",
      "Instructions for updating:\n",
      "Use standard file APIs to check for files with this prefix.\n",
      "INFO:tensorflow:Restoring parameters from ./model.ckpt\n",
      "input [[8, 4, 6, 2]]\n",
      "compressed [[-0.9235025]]\n",
      "reconstructed [[6.6596584 2.835511  5.816242  2.0642352]]\n"
     ]
    },
    {
     "data": {
      "text/plain": [
       "array([[6.6596584, 2.835511 , 5.816242 , 2.0642352]], dtype=float32)"
      ]
     },
     "execution_count": 3,
     "metadata": {},
     "output_type": "execute_result"
    }
   ],
   "source": [
    "hidden_dim = 1\n",
    "data = datasets.load_iris().data\n",
    "input_dim = len(data[0])\n",
    "ae = Autoencoder(input_dim, hidden_dim)\n",
    "ae.train(data)\n",
    "ae.test([[8, 4, 6, 2]])"
   ]
  },
  {
   "cell_type": "code",
   "execution_count": null,
   "metadata": {},
   "outputs": [],
   "source": []
  }
 ],
 "metadata": {
  "kernelspec": {
   "display_name": "Python 3",
   "language": "python",
   "name": "python3"
  },
  "language_info": {
   "codemirror_mode": {
    "name": "ipython",
    "version": 3
   },
   "file_extension": ".py",
   "mimetype": "text/x-python",
   "name": "python",
   "nbconvert_exporter": "python",
   "pygments_lexer": "ipython3",
   "version": "3.7.0b1"
  }
 },
 "nbformat": 4,
 "nbformat_minor": 2
}
