{
 "cells": [
  {
   "cell_type": "code",
   "execution_count": 1,
   "metadata": {},
   "outputs": [],
   "source": [
    "import numpy as np\n",
    "import matplotlib.pyplot as plt\n",
    "import tensorflow as tf"
   ]
  },
  {
   "cell_type": "code",
   "execution_count": 2,
   "metadata": {},
   "outputs": [],
   "source": [
    "learning_rate = 0.01\n",
    "training_epochs = 100\n",
    "x_train = np.linspace(-1, 1, 101)\n",
    "y_train = 2 * x_train + np.random.randn(*x_train.shape) * 0.33"
   ]
  },
  {
   "cell_type": "code",
   "execution_count": 3,
   "metadata": {},
   "outputs": [
    {
     "data": {
      "image/png": "[encoded data removed]",
      "text/plain": [
       "<Figure size 432x288 with 1 Axes>"
      ]
     },
     "metadata": {
      "needs_background": "light"
     },
     "output_type": "display_data"
    }
   ],
   "source": [
    "plt.scatter(x_train, y_train)\n",
    "plt.show()"
   ]
  },
  {
   "cell_type": "code",
   "execution_count": 4,
   "metadata": {},
   "outputs": [],
   "source": [
    "X = tf.Variable(x_train, dtype=tf.float32)\n",
    "Y = tf.Variable(y_train, dtype=tf.float32)\n",
    "w = tf.Variable(0., name=\"weights\")\n",
    "cost = lambda: tf.square(Y - tf.multiply(X, w))"
   ]
  },
  {
   "cell_type": "code",
   "execution_count": 5,
   "metadata": {
    "scrolled": true
   },
   "outputs": [
    {
     "name": "stdout",
     "output_type": "stream",
     "text": [
      "1.4271175\n",
      "1.8740907\n",
      "2.0140827\n",
      "2.057928\n",
      "2.0716605\n",
      "2.0759616\n",
      "2.0773087\n",
      "2.0777304\n",
      "2.0778625\n",
      "2.077904\n",
      "2.0779169\n",
      "2.077921\n",
      "2.0779223\n",
      "2.0779226\n",
      "2.0779228\n",
      "2.0779228\n",
      "2.0779228\n",
      "2.0779228\n",
      "2.0779228\n",
      "2.0779228\n",
      "2.0779228\n",
      "2.0779228\n",
      "2.0779228\n",
      "2.0779228\n",
      "2.0779228\n",
      "2.0779228\n",
      "2.0779228\n",
      "2.0779228\n",
      "2.0779228\n",
      "2.0779228\n",
      "2.0779228\n",
      "2.0779228\n",
      "2.0779228\n",
      "2.0779228\n",
      "2.0779228\n",
      "2.0779228\n",
      "2.0779228\n",
      "2.0779228\n",
      "2.0779228\n",
      "2.0779228\n",
      "2.0779228\n",
      "2.0779228\n",
      "2.0779228\n",
      "2.0779228\n",
      "2.0779228\n",
      "2.0779228\n",
      "2.0779228\n",
      "2.0779228\n",
      "2.0779228\n",
      "2.0779228\n",
      "2.0779228\n",
      "2.0779228\n",
      "2.0779228\n",
      "2.0779228\n",
      "2.0779228\n",
      "2.0779228\n",
      "2.0779228\n",
      "2.0779228\n",
      "2.0779228\n",
      "2.0779228\n",
      "2.0779228\n",
      "2.0779228\n",
      "2.0779228\n",
      "2.0779228\n",
      "2.0779228\n",
      "2.0779228\n",
      "2.0779228\n",
      "2.0779228\n",
      "2.0779228\n",
      "2.0779228\n",
      "2.0779228\n",
      "2.0779228\n",
      "2.0779228\n",
      "2.0779228\n",
      "2.0779228\n",
      "2.0779228\n",
      "2.0779228\n",
      "2.0779228\n",
      "2.0779228\n",
      "2.0779228\n",
      "2.0779228\n",
      "2.0779228\n",
      "2.0779228\n",
      "2.0779228\n",
      "2.0779228\n",
      "2.0779228\n",
      "2.0779228\n",
      "2.0779228\n",
      "2.0779228\n",
      "2.0779228\n",
      "2.0779228\n",
      "2.0779228\n",
      "2.0779228\n",
      "2.0779228\n",
      "2.0779228\n",
      "2.0779228\n",
      "2.0779228\n",
      "2.0779228\n",
      "2.0779228\n",
      "2.0779228\n",
      "Prediction: 2.077922821044922\n"
     ]
    }
   ],
   "source": [
    "train_op = tf.keras.optimizers.SGD(learning_rate)\n",
    "for _ in range(training_epochs):\n",
    "    step_count = train_op.minimize(cost, w).numpy()\n",
    "    print(w.numpy())\n",
    "val1 = w.value()\n",
    "print(\"Prediction: {}\".format(val1))"
   ]
  },
  {
   "cell_type": "code",
   "execution_count": 6,
   "metadata": {},
   "outputs": [
    {
     "data": {
      "image/png": "[encoded data removed]",
      "text/plain": [
       "<Figure size 432x288 with 1 Axes>"
      ]
     },
     "metadata": {
      "needs_background": "light"
     },
     "output_type": "display_data"
    }
   ],
   "source": [
    "plt.scatter(x_train, y_train)\n",
    "y_learned = x_train * val1\n",
    "plt.plot(x_train, y_learned, 'r')\n",
    "plt.show()"
   ]
  },
  {
   "cell_type": "code",
   "execution_count": null,
   "metadata": {},
   "outputs": [],
   "source": []
  },
  {
   "cell_type": "code",
   "execution_count": null,
   "metadata": {},
   "outputs": [],
   "source": []
  },
  {
   "cell_type": "code",
   "execution_count": null,
   "metadata": {},
   "outputs": [],
   "source": []
  }
 ],
 "metadata": {
  "kernelspec": {
   "display_name": "Python 3",
   "language": "python",
   "name": "python3"
  },
  "language_info": {
   "codemirror_mode": {
    "name": "ipython",
    "version": 3
   },
   "file_extension": ".py",
   "mimetype": "text/x-python",
   "name": "python",
   "nbconvert_exporter": "python",
   "pygments_lexer": "ipython3",
   "version": "3.8.3"
  }
 },
 "nbformat": 4,
 "nbformat_minor": 4
}
