{
 "cells": [
  {
   "cell_type": "markdown",
   "metadata": {},
   "source": [
    "# Device Stats\n",
    "---\n",
    "\n",
    "The following is for informational purposes only."
   ]
  },
  {
   "cell_type": "code",
   "execution_count": 2,
   "metadata": {},
   "outputs": [
    {
     "name": "stdout",
     "output_type": "stream",
     "text": [
      "[PhysicalDevice(name='/physical_device:GPU:0', device_type='GPU')]\n",
      "/device:GPU:0\n",
      "True\n",
      "2.2.0\n"
     ]
    }
   ],
   "source": [
    "import tensorflow as tf\n",
    "print(tf.config.list_physical_devices('GPU'))\n",
    "print(tf.test.gpu_device_name())\n",
    "print(tf.test.is_built_with_cuda())\n",
    "print(tf.__version__)"
   ]
  },
  {
   "cell_type": "markdown",
   "metadata": {},
   "source": [
    "# Hardware\n",
    "---\n",
    "\n",
    "The machine used to build and run the listings within this repository uses the following (primary) hardware components:\n",
    "\n",
    "### GPU\n",
    "[MSI GeForce GTX 1060 6GB](https://www.msi.com/Graphics-card/GeForce-GTX-1060-GAMING-X-6G.html), sans overclocking.\n",
    "\n",
    "### CPU\n",
    "[Intel Core i5-9600K @ 3.70GHz](https://ark.intel.com/content/www/us/en/ark/products/134896/intel-core-i5-9600k-processor-9m-cache-up-to-4-60-ghz.html), sans overclocking\n",
    "\n",
    "### Memory\n",
    "[Corsair 16GB (2x 8GB) DDR4 PC4-28800 (3600MHz)](https://www.corsair.com/ww/en/Categories/Products/Memory/Vengeance-PRO-RGB-Black/p/CMW16GX4M2C3600C18#)"
   ]
  },
  {
   "cell_type": "raw",
   "metadata": {},
   "source": [
    "+-----------------------------------------------------------------------------+\n",
    "| NVIDIA-SMI 440.64.00    Driver Version: 440.64.00    CUDA Version: 10.2     |\n",
    "|-------------------------------+----------------------+----------------------+\n",
    "| GPU  Name        Persistence-M| Bus-Id        Disp.A | Volatile Uncorr. ECC |\n",
    "| Fan  Temp  Perf  Pwr:Usage/Cap|         Memory-Usage | GPU-Util  Compute M. |\n",
    "|===============================+======================+======================|\n",
    "|   0  GeForce GTX 106...  On   | 00000000:01:00.0 Off |                  N/A |\n",
    "|  0%   33C    P8     7W / 200W |   5765MiB /  6055MiB |      0%      Default |\n",
    "+-------------------------------+----------------------+----------------------+"
   ]
  },
  {
   "cell_type": "code",
   "execution_count": null,
   "metadata": {},
   "outputs": [],
   "source": []
  }
 ],
 "metadata": {
  "kernelspec": {
   "display_name": "NLP - GPU (Python3)",
   "language": "python",
   "name": "nlp_gpu"
  },
  "language_info": {
   "codemirror_mode": {
    "name": "ipython",
    "version": 3
   },
   "file_extension": ".py",
   "mimetype": "text/x-python",
   "name": "python",
   "nbconvert_exporter": "python",
   "pygments_lexer": "ipython3",
   "version": "3.6.8"
  }
 },
 "nbformat": 4,
 "nbformat_minor": 4
}
