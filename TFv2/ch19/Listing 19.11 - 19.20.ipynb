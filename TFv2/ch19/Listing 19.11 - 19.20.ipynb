{
 "cells": [
  {
   "cell_type": "code",
   "execution_count": 8,
   "metadata": {},
   "outputs": [],
   "source": [
    "import tensorflow as tf\n",
    "import numpy as np\n",
    "import glob, os\n",
    "from imageio import imread\n",
    "from cv2 import resize\n",
    "import cv2"
   ]
  },
  {
   "cell_type": "code",
   "execution_count": 9,
   "metadata": {},
   "outputs": [
    {
     "name": "stdout",
     "output_type": "stream",
     "text": [
      "Images of starting state (45, 224, 224, 3)\n",
      "Images of ending state (45, 224, 224, 3)\n"
     ]
    }
   ],
   "source": [
    "DATASET_DIR = '../../data/cloth_folding_rgb_vids'\n",
    "NUM_VIDS = 45\n",
    "\n",
    "def get_img_pair(video_id):\n",
    "    img_files = sorted(glob.glob(os.path.join(DATASET_DIR, video_id, '*.png')))\n",
    "    start_img = img_files[0]\n",
    "    end_img = img_files[-1]\n",
    "    pair = []\n",
    "    for image_file in [start_img, end_img]:\n",
    "        img_original = imread(image_file)\n",
    "        \n",
    "        img_resized = resize(src=img_original, dsize=(224, 224), interpolation=cv2.INTER_CUBIC)\n",
    "        pair.append(img_resized)\n",
    "    return tuple(pair)\n",
    "\n",
    "start_imgs = []\n",
    "end_imgs= []\n",
    "for vid_id in range(1, NUM_VIDS + 1):\n",
    "    start_img, end_img = get_img_pair(str(vid_id))\n",
    "    start_imgs.append(start_img)\n",
    "    end_imgs.append(end_img)\n",
    "print('Images of starting state {}'.format(np.shape(start_imgs)))\n",
    "print('Images of ending state {}'.format(np.shape(end_imgs)))\n"
   ]
  },
  {
   "cell_type": "code",
   "execution_count": 10,
   "metadata": {},
   "outputs": [],
   "source": [
    "n_features = 4096\n",
    "n_hidden = 10 # n_features * 2"
   ]
  },
  {
   "cell_type": "code",
   "execution_count": 11,
   "metadata": {},
   "outputs": [],
   "source": [
    "class Model(object):\n",
    "    \n",
    "    def __init__(self):\n",
    "        self.w1_i = tf.Variable(tf.random.normal([n_features, n_hidden], dtype=tf.double), name=\"w1\", dtype=tf.double)\n",
    "        tf.summary.histogram(\"w1\", self.w1_i)\n",
    "        self.b1_i = tf.Variable(tf.random.normal([n_hidden], dtype=tf.double), name=\"b1\", dtype=tf.double)\n",
    "        tf.summary.histogram(\"b1\", self.b1_i)\n",
    "        \n",
    "        self.w2_o = tf.Variable(tf.random.normal([n_hidden, 1], dtype=tf.double), name=\"w2\")\n",
    "        tf.summary.histogram(\"w2\", self.w2_o)\n",
    "        self.b2_o = tf.Variable(tf.random.normal([1], dtype=tf.double), name=\"b2\")\n",
    "        tf.summary.histogram(\"b2\", self.b2_o)\n",
    "\n",
    "    def __call__(self, x, y):\n",
    "        h1 = tf.nn.dropout(tf.nn.relu(tf.matmul(x, self.w1_i) + self.b1_i), rate=0.5)\n",
    "        tf.summary.histogram(\"h1\", h1)\n",
    "        h2 = tf.nn.dropout(tf.nn.relu(tf.matmul(y, self.w1_i) + self.b1_i), rate=0.5)\n",
    "        tf.summary.histogram(\"h2\", h2)\n",
    "        \n",
    "        s1 = tf.matmul(h1, self.w2_o) + self.b2_o\n",
    "        s2 = tf.matmul(h2, self.w2_o) + self.b2_o\n",
    "        \n",
    "        s12 = s1 - s2\n",
    "        s12_flat = tf.reshape(s12, [-1])\n",
    "        \n",
    "        return s12_flat\n",
    "    \n",
    "    def get_embeddings_s1(self, x):\n",
    "        h1 = tf.nn.dropout(tf.nn.relu(tf.matmul(x, self.w1_i) + self.b1_i), rate=0.5)\n",
    "        s1 = tf.matmul(h1, self.w2_o) + self.b2_o\n",
    "        return s1\n",
    "\n",
    "    def get_embeddings_s2(self, x, y):\n",
    "        h1 = tf.nn.dropout(tf.nn.relu(tf.matmul(x, self.w1_i) + self.b1_i), rate=0.5)\n",
    "        h2 = tf.nn.dropout(tf.nn.relu(tf.matmul(y, self.w1_i) + self.b1_i), rate=0.5)\n",
    "        \n",
    "        s1 = tf.matmul(h1, self.w2_o) + self.b2_o\n",
    "        s2 = tf.matmul(h2, self.w2_o) + self.b2_o\n",
    "        return s2\n",
    "        "
   ]
  },
  {
   "cell_type": "code",
   "execution_count": 12,
   "metadata": {},
   "outputs": [],
   "source": [
    "optimizer = tf.keras.optimizers.Adam(learning_rate=0.001)"
   ]
  },
  {
   "cell_type": "code",
   "execution_count": 13,
   "metadata": {},
   "outputs": [],
   "source": [
    "def loss(model, inputs, inputs2):\n",
    "    return tf.reduce_mean(tf.nn.softmax_cross_entropy_with_logits(logits=model(inputs, inputs2) + 1, labels=tf.zeros_like(model(inputs, inputs2))))"
   ]
  },
  {
   "cell_type": "code",
   "execution_count": 14,
   "metadata": {},
   "outputs": [],
   "source": [
    "def train_step(model, inputs, inputs2):\n",
    "    trainable_variables = [model.w1_i, model.b1_i, model.w2_o, model.b2_o]\n",
    "    with tf.GradientTape() as t:\n",
    "        current_loss = loss(model, inputs, inputs2)\n",
    "        \n",
    "    grads = t.gradient(current_loss, trainable_variables)\n",
    "    optimizer.apply_gradients(zip(grads,trainable_variables))\n",
    "    return current_loss"
   ]
  },
  {
   "cell_type": "code",
   "execution_count": 15,
   "metadata": {},
   "outputs": [],
   "source": [
    "model = Model()"
   ]
  },
  {
   "cell_type": "code",
   "execution_count": 28,
   "metadata": {},
   "outputs": [
    {
     "name": "stdout",
     "output_type": "stream",
     "text": [
      "Loading model...\n",
      "Done loading!\n"
     ]
    }
   ],
   "source": [
    "print('Loading model...')\n",
    "base_model = tf.keras.applications.VGG16(weights='imagenet', pooling=max)\n",
    "vgg16 = tf.keras.Model(inputs=base_model.input, outputs=base_model.get_layer('fc1').output)\n",
    "print('Done loading!')"
   ]
  },
  {
   "cell_type": "code",
   "execution_count": 30,
   "metadata": {},
   "outputs": [
    {
     "name": "stdout",
     "output_type": "stream",
     "text": [
      "45\n",
      "(224, 224, 3)\n"
     ]
    }
   ],
   "source": [
    "print(len(start_imgs))\n",
    "print(np.shape(start_imgs[0]))"
   ]
  },
  {
   "cell_type": "code",
   "execution_count": 47,
   "metadata": {},
   "outputs": [],
   "source": [
    "start_imgs_embedded = np.asarray([vgg16.predict(tf.expand_dims(start_imgs[i], 0)) for i in range(0, len(start_imgs))])\n",
    "end_imgs_embedded = np.asarray([vgg16.predict(tf.expand_dims(end_imgs[i], 0)) for i in range(0, len(end_imgs))])"
   ]
  },
  {
   "cell_type": "code",
   "execution_count": 53,
   "metadata": {},
   "outputs": [
    {
     "name": "stdout",
     "output_type": "stream",
     "text": [
      "Train start imgs (33, 1, 4096)\n",
      "Train end imgs (33, 1, 4096)\n",
      "Test start imgs (12, 1, 4096)\n",
      "Test end imgs (12, 1, 4096)\n"
     ]
    }
   ],
   "source": [
    "idxs = np.random.choice(NUM_VIDS, NUM_VIDS, replace=False)\n",
    "train_idxs = np.array(idxs[0:int(NUM_VIDS * 0.75)])\n",
    "test_idxs = np.array(idxs[int(NUM_VIDS * 0.75):])\n",
    "\n",
    "train_start_imgs = start_imgs_embedded[train_idxs].astype(np.double)\n",
    "train_end_imgs = end_imgs_embedded[train_idxs].astype(np.double)\n",
    "test_start_imgs = start_imgs_embedded[test_idxs].astype(np.double)\n",
    "test_end_imgs = end_imgs_embedded[test_idxs].astype(np.double)\n",
    "\n",
    "print('Train start imgs {}'.format(np.shape(train_start_imgs)))\n",
    "print('Train end imgs {}'.format(np.shape(train_end_imgs)))\n",
    "print('Test start imgs {}'.format(np.shape(test_start_imgs)))\n",
    "print('Test end imgs {}'.format(np.shape(test_end_imgs)))"
   ]
  },
  {
   "cell_type": "code",
   "execution_count": 54,
   "metadata": {},
   "outputs": [
    {
     "name": "stdout",
     "output_type": "stream",
     "text": [
      "Step 0 Train Loss 0.000000 \n",
      "Accuracy: 50.0%\n",
      "Step 1 Train Loss 0.000000 \n",
      "Accuracy: 66.66666666666666%\n",
      "Step 2 Train Loss 0.000000 \n",
      "Accuracy: 58.333333333333336%\n",
      "Step 3 Train Loss 0.000000 \n",
      "Accuracy: 75.0%\n",
      "Step 4 Train Loss 0.000000 \n",
      "Accuracy: 83.33333333333334%\n",
      "Step 5 Train Loss 0.000000 \n",
      "Accuracy: 83.33333333333334%\n",
      "Step 6 Train Loss 0.000000 \n",
      "Accuracy: 91.66666666666666%\n",
      "Step 7 Train Loss 0.000000 \n",
      "Accuracy: 91.66666666666666%\n",
      "Step 8 Train Loss 0.000000 \n",
      "Accuracy: 91.66666666666666%\n",
      "Step 9 Train Loss 0.000000 \n",
      "Accuracy: 75.0%\n",
      "Step 10 Train Loss 0.000000 \n",
      "Accuracy: 100.0%\n",
      "Step 11 Train Loss 0.000000 \n",
      "Accuracy: 100.0%\n",
      "Step 12 Train Loss 0.000000 \n",
      "Accuracy: 91.66666666666666%\n",
      "Step 13 Train Loss 0.000000 \n",
      "Accuracy: 100.0%\n",
      "Step 14 Train Loss 0.000000 \n",
      "Accuracy: 91.66666666666666%\n",
      "Step 15 Train Loss 0.000000 \n",
      "Accuracy: 100.0%\n",
      "Step 16 Train Loss 0.000000 \n",
      "Accuracy: 100.0%\n",
      "Step 17 Train Loss 0.000000 \n",
      "Accuracy: 100.0%\n",
      "Step 18 Train Loss 0.000000 \n",
      "Accuracy: 100.0%\n",
      "Step 19 Train Loss 0.000000 \n",
      "Accuracy: 100.0%\n",
      "Step 20 Train Loss 0.000000 \n",
      "Accuracy: 100.0%\n",
      "Step 21 Train Loss 0.000000 \n",
      "Accuracy: 100.0%\n",
      "Step 22 Train Loss 0.000000 \n",
      "Accuracy: 100.0%\n",
      "Step 23 Train Loss 0.000000 \n",
      "Accuracy: 100.0%\n",
      "Step 24 Train Loss 0.000000 \n",
      "Accuracy: 91.66666666666666%\n",
      "Step 25 Train Loss 0.000000 \n",
      "Accuracy: 100.0%\n",
      "Step 26 Train Loss 0.000000 \n",
      "Accuracy: 100.0%\n",
      "Step 27 Train Loss 0.000000 \n",
      "Accuracy: 100.0%\n",
      "Step 28 Train Loss 0.000000 \n",
      "Accuracy: 100.0%\n",
      "Step 29 Train Loss 0.000000 \n",
      "Accuracy: 83.33333333333334%\n",
      "Step 30 Train Loss 0.000000 \n",
      "Accuracy: 100.0%\n",
      "Step 31 Train Loss 0.000000 \n",
      "Accuracy: 100.0%\n",
      "Step 32 Train Loss 0.000000 \n",
      "Accuracy: 100.0%\n",
      "Step 33 Train Loss 0.000000 \n",
      "Accuracy: 100.0%\n",
      "Step 34 Train Loss 0.000000 \n",
      "Accuracy: 100.0%\n",
      "Step 35 Train Loss 0.000000 \n",
      "Accuracy: 100.0%\n",
      "Step 36 Train Loss 0.000000 \n",
      "Accuracy: 100.0%\n",
      "Step 37 Train Loss 0.000000 \n",
      "Accuracy: 100.0%\n",
      "Step 38 Train Loss 0.000000 \n",
      "Accuracy: 100.0%\n",
      "Step 39 Train Loss 0.000000 \n",
      "Accuracy: 100.0%\n",
      "Step 40 Train Loss 0.000000 \n",
      "Accuracy: 100.0%\n",
      "Step 41 Train Loss 0.000000 \n",
      "Accuracy: 100.0%\n",
      "Step 42 Train Loss 0.000000 \n",
      "Accuracy: 100.0%\n",
      "Step 43 Train Loss 0.000000 \n",
      "Accuracy: 91.66666666666666%\n",
      "Step 44 Train Loss 0.000000 \n",
      "Accuracy: 100.0%\n",
      "Step 45 Train Loss 0.000000 \n",
      "Accuracy: 100.0%\n",
      "Step 46 Train Loss 0.000000 \n",
      "Accuracy: 100.0%\n",
      "Step 47 Train Loss 0.000000 \n",
      "Accuracy: 100.0%\n",
      "Step 48 Train Loss 0.000000 \n",
      "Accuracy: 91.66666666666666%\n",
      "Step 49 Train Loss 0.000000 \n",
      "Accuracy: 100.0%\n",
      "Step 50 Train Loss 0.000000 \n",
      "Accuracy: 100.0%\n",
      "Step 51 Train Loss 0.000000 \n",
      "Accuracy: 100.0%\n",
      "Step 52 Train Loss 0.000000 \n",
      "Accuracy: 100.0%\n",
      "Step 53 Train Loss 0.000000 \n",
      "Accuracy: 100.0%\n",
      "Step 54 Train Loss 0.000000 \n",
      "Accuracy: 100.0%\n",
      "Step 55 Train Loss 0.000000 \n",
      "Accuracy: 100.0%\n",
      "Step 56 Train Loss 0.000000 \n",
      "Accuracy: 100.0%\n",
      "Step 57 Train Loss 0.000000 \n",
      "Accuracy: 100.0%\n",
      "Step 58 Train Loss 0.000000 \n",
      "Accuracy: 100.0%\n",
      "Step 59 Train Loss 0.000000 \n",
      "Accuracy: 100.0%\n",
      "Step 60 Train Loss 0.000000 \n",
      "Accuracy: 100.0%\n",
      "Step 61 Train Loss 0.000000 \n",
      "Accuracy: 100.0%\n",
      "Step 62 Train Loss 0.000000 \n",
      "Accuracy: 100.0%\n",
      "Step 63 Train Loss 0.000000 \n",
      "Accuracy: 100.0%\n",
      "Step 64 Train Loss 0.000000 \n",
      "Accuracy: 100.0%\n",
      "Step 65 Train Loss 0.000000 \n",
      "Accuracy: 91.66666666666666%\n",
      "Step 66 Train Loss 0.000000 \n",
      "Accuracy: 91.66666666666666%\n",
      "Step 67 Train Loss 0.000000 \n",
      "Accuracy: 100.0%\n",
      "Step 68 Train Loss 0.000000 \n",
      "Accuracy: 100.0%\n",
      "Step 69 Train Loss 0.000000 \n",
      "Accuracy: 100.0%\n",
      "Step 70 Train Loss 0.000000 \n",
      "Accuracy: 100.0%\n",
      "Step 71 Train Loss 0.000000 \n",
      "Accuracy: 100.0%\n",
      "Step 72 Train Loss 0.000000 \n",
      "Accuracy: 100.0%\n",
      "Step 73 Train Loss 0.000000 \n",
      "Accuracy: 100.0%\n",
      "Step 74 Train Loss 0.000000 \n",
      "Accuracy: 100.0%\n",
      "Step 75 Train Loss 0.000000 \n",
      "Accuracy: 100.0%\n",
      "Step 76 Train Loss 0.000000 \n",
      "Accuracy: 91.66666666666666%\n",
      "Step 77 Train Loss 0.000000 \n",
      "Accuracy: 100.0%\n",
      "Step 78 Train Loss 0.000000 \n",
      "Accuracy: 100.0%\n",
      "Step 79 Train Loss 0.000000 \n",
      "Accuracy: 100.0%\n",
      "Step 80 Train Loss 0.000000 \n",
      "Accuracy: 100.0%\n",
      "Step 81 Train Loss 0.000000 \n",
      "Accuracy: 100.0%\n",
      "Step 82 Train Loss 0.000000 \n",
      "Accuracy: 100.0%\n",
      "Step 83 Train Loss 0.000000 \n",
      "Accuracy: 100.0%\n",
      "Step 84 Train Loss 0.000000 \n",
      "Accuracy: 100.0%\n",
      "Step 85 Train Loss 0.000000 \n",
      "Accuracy: 100.0%\n",
      "Step 86 Train Loss 0.000000 \n",
      "Accuracy: 100.0%\n",
      "Step 87 Train Loss 0.000000 \n",
      "Accuracy: 100.0%\n",
      "Step 88 Train Loss 0.000000 \n",
      "Accuracy: 100.0%\n",
      "Step 89 Train Loss 0.000000 \n",
      "Accuracy: 100.0%\n",
      "Step 90 Train Loss 0.000000 \n",
      "Accuracy: 100.0%\n",
      "Step 91 Train Loss 0.000000 \n",
      "Accuracy: 100.0%\n",
      "Step 92 Train Loss 0.000000 \n",
      "Accuracy: 100.0%\n",
      "Step 93 Train Loss 0.000000 \n",
      "Accuracy: 100.0%\n",
      "Step 94 Train Loss 0.000000 \n",
      "Accuracy: 100.0%\n",
      "Step 95 Train Loss 0.000000 \n",
      "Accuracy: 100.0%\n",
      "Step 96 Train Loss 0.000000 \n",
      "Accuracy: 100.0%\n",
      "Step 97 Train Loss 0.000000 \n",
      "Accuracy: 100.0%\n",
      "Step 98 Train Loss 0.000000 \n",
      "Accuracy: 100.0%\n",
      "Step 99 Train Loss 0.000000 \n",
      "Accuracy: 91.66666666666666%\n"
     ]
    }
   ],
   "source": [
    "for epoch in range(0, 100):\n",
    "    for i in range(np.shape(train_start_imgs)[0]):\n",
    "        err = train_step(model, train_start_imgs[i:i+1,:], train_end_imgs[i:i+1,:])\n",
    "    \n",
    "    print(\"Step %d Train Loss %f \" % (epoch, err.numpy()))\n",
    "        \n",
    "    s1_val = model.get_embeddings_s1(test_start_imgs)\n",
    "    s2_val = model.get_embeddings_s2(test_start_imgs, test_end_imgs)\n",
    "\n",
    "    print('Accuracy: {}%'.format(100 * np.mean(s1_val.numpy() < s2_val.numpy())))"
   ]
  },
  {
   "cell_type": "code",
   "execution_count": 57,
   "metadata": {},
   "outputs": [],
   "source": [
    "def get_img_seq(video_id):\n",
    "    img_files = sorted(glob.glob(os.path.join(DATASET_DIR, video_id, '*.png')))\n",
    "    imgs = []\n",
    "    for image_file in img_files:\n",
    "        img_original = imread(image_file)\n",
    "        img_resized = resize(src=img_original, dsize=(224, 224), interpolation=cv2.INTER_CUBIC)\n",
    "        imgs.append(img_resized)\n",
    "    return imgs\n",
    "\n",
    "imgs = get_img_seq('1')"
   ]
  },
  {
   "cell_type": "code",
   "execution_count": 60,
   "metadata": {},
   "outputs": [],
   "source": [
    "imgs_embedded = np.asarray([vgg16.predict(tf.expand_dims(imgs[i], 0)) for i in range(0, len(imgs))], dtype=np.double)"
   ]
  },
  {
   "cell_type": "code",
   "execution_count": 61,
   "metadata": {},
   "outputs": [],
   "source": [
    "scores = model.get_embeddings_s1(imgs_embedded)"
   ]
  },
  {
   "cell_type": "code",
   "execution_count": 64,
   "metadata": {},
   "outputs": [
    {
     "name": "stdout",
     "output_type": "stream",
     "text": [
      "(50, 1, 4096)\n",
      "[[[4.39761019 5.10273409 0.         ... 0.         0.         0.        ]]\n",
      "\n",
      " [[5.61068535 0.40652528 0.         ... 0.         0.         0.        ]]\n",
      "\n",
      " [[0.         3.15659428 0.         ... 0.         0.         0.        ]]\n",
      "\n",
      " ...\n",
      "\n",
      " [[0.         1.07057333 0.         ... 0.         0.         0.        ]]\n",
      "\n",
      " [[0.         0.579449   0.         ... 0.         0.         0.        ]]\n",
      "\n",
      " [[0.         1.10245872 0.         ... 0.         0.         0.        ]]]\n"
     ]
    }
   ],
   "source": [
    "print(np.shape(imgs_embedded))\n",
    "print(imgs_embedded)"
   ]
  },
  {
   "cell_type": "code",
   "execution_count": 70,
   "metadata": {},
   "outputs": [
    {
     "name": "stdout",
     "output_type": "stream",
     "text": [
      "(50, 1, 1)\n",
      "tf.Tensor([[170968.56104918]], shape=(1, 1), dtype=float64)\n",
      "[-2.96902077e+04  5.64806991e+04  4.36908619e+04  7.53451485e+04\n",
      "  5.07719633e+04  5.11687688e+04  3.70850470e+04  8.13852777e+04\n",
      "  2.52971811e+04  2.59095625e+04  4.36304461e+04  5.39872914e+04\n",
      "  3.64749581e+04  4.39742243e+03  1.18039982e+05  6.42808781e+04\n",
      "  1.11099202e+05  1.23418882e+05  1.98647423e+05  7.98789668e+04\n",
      "  1.59933923e+05  1.28934678e+05  1.13080676e+05  1.39020794e+05\n",
      "  1.01044395e+05  9.46092295e+04  3.33736273e+04  9.96570953e+04\n",
      "  1.41680636e+05  7.98412798e+04  7.26782929e+04  1.29535747e+05\n",
      "  2.40417482e+00  1.95780156e+05  1.04955580e+05  1.47244102e+05\n",
      "  1.38066754e+05  1.87249088e+05  1.86220445e+05  1.49259023e+05\n",
      "  9.26401502e+04  1.08644120e+05  6.63650452e+04  6.20461402e+04\n",
      "  2.44740020e+05  1.16732212e+05  2.29716622e+05  1.72777978e+05\n",
      "  5.63025018e+04  1.70968561e+05]\n"
     ]
    }
   ],
   "source": [
    "print(np.shape(scores))\n",
    "print(scores[-1])\n",
    "print(np.squeeze(scores))"
   ]
  },
  {
   "cell_type": "code",
   "execution_count": 71,
   "metadata": {},
   "outputs": [
    {
     "data": {
      "image/png": "[encoded data removed]",
      "text/plain": [
       "<Figure size 432x288 with 1 Axes>"
      ]
     },
     "metadata": {
      "needs_background": "light"
     },
     "output_type": "display_data"
    }
   ],
   "source": [
    "from matplotlib import pyplot as plt\n",
    "plt.figure()\n",
    "plt.title('Utility of cloth-folding over time')\n",
    "plt.xlabel('time (video frame #)')\n",
    "plt.ylabel('Utility')\n",
    "plt.plot(np.squeeze(scores))\n",
    "plt.show()"
   ]
  },
  {
   "cell_type": "code",
   "execution_count": null,
   "metadata": {},
   "outputs": [],
   "source": []
  }
 ],
 "metadata": {
  "kernelspec": {
   "display_name": "Python 3",
   "language": "python",
   "name": "python3"
  },
  "language_info": {
   "codemirror_mode": {
    "name": "ipython",
    "version": 3
   },
   "file_extension": ".py",
   "mimetype": "text/x-python",
   "name": "python",
   "nbconvert_exporter": "python",
   "pygments_lexer": "ipython3",
   "version": "3.8.5"
  }
 },
 "nbformat": 4,
 "nbformat_minor": 2
}
