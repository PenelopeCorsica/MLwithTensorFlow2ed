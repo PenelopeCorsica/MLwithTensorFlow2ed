{
 "cells": [
  {
   "cell_type": "code",
   "execution_count": 1,
   "metadata": {},
   "outputs": [],
   "source": [
    "import librosa\n",
    "import python_speech_features\n",
    "import matplotlib.pyplot as plt\n",
    "from scipy.signal.windows import hann\n",
    "import seaborn as sns"
   ]
  },
  {
   "cell_type": "code",
   "execution_count": 2,
   "metadata": {},
   "outputs": [],
   "source": [
    "n_mfcc = 22\n",
    "n_mels = 40\n",
    "n_fft = 16384 \n",
    "hop_length = 2205\n",
    "fmin = 0\n",
    "fmax = None"
   ]
  },
  {
   "cell_type": "code",
   "execution_count": 3,
   "metadata": {},
   "outputs": [],
   "source": [
    "def get_chromagram(audio_file):\n",
    "    y, sr = librosa.load(audio_file)\n",
    "    mfcc_speech = python_speech_features.mfcc(signal=y, samplerate=sr, winlen=n_fft / sr, winstep=hop_length / sr,\n",
    "                                          numcep=n_mfcc, nfilt=n_mels, nfft=n_fft, lowfreq=fmin, highfreq=fmax,\n",
    "                                          preemph=0.0, ceplifter=0, appendEnergy=False, winfunc=hann)   \n",
    "    return mfcc_speech"
   ]
  },
  {
   "cell_type": "code",
   "execution_count": 4,
   "metadata": {},
   "outputs": [
    {
     "name": "stdout",
     "output_type": "stream",
     "text": [
      "[[-14.16244902  27.16274378 -17.67253166   2.30394178  -5.43784799\n",
      "   -1.45892378  -0.43770196  -5.69127375   0.70055371  -4.17729176\n",
      "   -2.68473096   2.13423932  -0.31447028   2.04358216  -1.24384489\n",
      "    0.45266038   0.51186667  -1.73715155   0.97483627  -1.38262536\n",
      "   -0.94325479   0.88866856]\n",
      " [-16.05844814  28.72466091 -16.7703656    3.05028315  -6.42720523\n",
      "   -0.8384304    0.46751116  -5.76170008   1.50708673  -3.42831493\n",
      "   -2.57661958   1.39677519  -0.88180731   2.52454648  -0.97820044\n",
      "    0.45128165   0.39962315  -1.90461344   0.91959426  -1.62834374\n",
      "   -1.26549246   0.35577487]\n",
      " [-20.2374341   31.99405207 -17.201581     4.72246987  -7.51672905\n",
      "   -0.80688236   1.18533588  -5.81647873   2.44962666  -3.11328543\n",
      "   -2.75059762   0.1547908   -1.53557504   3.47493766  -1.0778958\n",
      "    0.25829224   0.83161834  -1.68755812   0.98092835  -1.44789574\n",
      "   -1.08642733  -0.29662753]\n",
      " [-26.30805539  37.73771551 -20.71540431   7.6338875   -8.45093116\n",
      "   -0.89251611   1.67085404  -6.21707101   4.03109357  -4.51019108\n",
      "   -3.35033368  -0.79462929  -1.75573251   4.46344482  -2.0054667\n",
      "    0.28502053   1.28927313  -1.23838663   1.58250658  -1.09704574\n",
      "   -0.56806457  -1.05205245]\n",
      " [-28.17467289  37.39073713 -20.93230027   7.49754501  -7.45287929\n",
      "   -0.98736444   1.78322684  -5.58841018   3.93074621  -5.19557476\n",
      "   -4.34871912  -0.92892691  -1.50633686   4.35826837  -2.47037349\n",
      "   -0.24437013   1.77384597  -0.54921078   2.02403453  -0.5013932\n",
      "   -0.44758453  -0.85232453]]\n"
     ]
    }
   ],
   "source": [
    "X = get_chromagram('../../data/audio_dataset/cough_1.wav')\n",
    "print(X)"
   ]
  },
  {
   "cell_type": "code",
   "execution_count": 5,
   "metadata": {},
   "outputs": [
    {
     "name": "stdout",
     "output_type": "stream",
     "text": [
      "5 22\n"
     ]
    }
   ],
   "source": [
    "num_features, num_samples = X.shape\n",
    "print(num_features, num_samples)"
   ]
  },
  {
   "cell_type": "code",
   "execution_count": null,
   "metadata": {},
   "outputs": [],
   "source": []
  }
 ],
 "metadata": {
  "kernelspec": {
   "display_name": "Python 3",
   "language": "python",
   "name": "python3"
  },
  "language_info": {
   "codemirror_mode": {
    "name": "ipython",
    "version": 3
   },
   "file_extension": ".py",
   "mimetype": "text/x-python",
   "name": "python",
   "nbconvert_exporter": "python",
   "pygments_lexer": "ipython3",
   "version": "3.8.5"
  }
 },
 "nbformat": 4,
 "nbformat_minor": 2
}
