{
 "cells": [
  {
   "cell_type": "code",
   "execution_count": 1,
   "metadata": {},
   "outputs": [],
   "source": [
    "import sys"
   ]
  },
  {
   "cell_type": "code",
   "execution_count": 2,
   "metadata": {},
   "outputs": [],
   "source": [
    "sys.path.append(\"../../libs/basic_units/\")"
   ]
  },
  {
   "cell_type": "code",
   "execution_count": 3,
   "metadata": {},
   "outputs": [],
   "source": [
    "import numpy as np\n",
    "import librosa\n",
    "import python_speech_features\n",
    "from basic_units import cm, inch\n",
    "import matplotlib.pyplot as plt\n",
    "from scipy.signal.windows import hann, hamming\n",
    "import tensorflow as tf\n",
    "import matplotlib.pyplot as plt"
   ]
  },
  {
   "cell_type": "code",
   "execution_count": 4,
   "metadata": {},
   "outputs": [],
   "source": [
    "n_mfcc = 22\n",
    "n_mels = 40\n",
    "n_fft = 16384 \n",
    "hop_length = 2205\n",
    "fmin = 0\n",
    "fmax = None\n",
    "rate = 44000"
   ]
  },
  {
   "cell_type": "code",
   "execution_count": 5,
   "metadata": {},
   "outputs": [],
   "source": [
    "def read_file(file):\n",
    "    file_contents = tf.io.read_file(file)\n",
    "    return file, file_contents"
   ]
  },
  {
   "cell_type": "code",
   "execution_count": 6,
   "metadata": {},
   "outputs": [],
   "source": [
    "filenames = tf.io.match_filenames_once('../../data/audio_dataset/*.wav')\n",
    "filename_ds = tf.data.Dataset.from_tensor_slices(filenames)"
   ]
  },
  {
   "cell_type": "code",
   "execution_count": 7,
   "metadata": {},
   "outputs": [],
   "source": [
    "filename_contents_ds = filename_ds.map(read_file)"
   ]
  },
  {
   "cell_type": "code",
   "execution_count": 8,
   "metadata": {},
   "outputs": [],
   "source": [
    "def get_next_chromagram(audio_file):\n",
    "    print('filename %s ' % (audio_file))\n",
    "    y, sr = librosa.load(audio_file, sr=rate)\n",
    "    winlen=n_fft / sr\n",
    "    winstep=hop_length/sr    \n",
    "    mfcc_speech = python_speech_features.mfcc(signal=y, samplerate=sr, winlen=winlen, winstep=winstep,\n",
    "                                          numcep=n_mfcc, nfilt=n_mels, nfft=n_fft, lowfreq=fmin, highfreq=fmax,\n",
    "                                          preemph=0.0, ceplifter=0, appendEnergy=False, winfunc=hamming)   \n",
    "    return mfcc_speech"
   ]
  },
  {
   "cell_type": "code",
   "execution_count": 9,
   "metadata": {},
   "outputs": [],
   "source": [
    "def extract_feature_vector(chroma_data):\n",
    "    num_samples, num_features = np.shape(chroma_data)\n",
    "    print(\"Num features %d num samples %d \" % (num_features, num_samples))\n",
    "    freq_vals = tf.argmax(chroma_data)\n",
    "    hist, bins = np.histogram(freq_vals, bins=range(num_features + 1))\n",
    "    return hist.astype(float) / num_samples"
   ]
  },
  {
   "cell_type": "code",
   "execution_count": 10,
   "metadata": {},
   "outputs": [],
   "source": [
    "def get_dataset():\n",
    "    filename_contents_ds_enum = filename_contents_ds.enumerate()\n",
    "    xs = []\n",
    "    for file_obj in filename_contents_ds_enum.as_numpy_iterator():\n",
    "        chroma_data = get_next_chromagram(file_obj[1][0])\n",
    "        x = [extract_feature_vector(chroma_data)]\n",
    "        x = np.matrix(x)\n",
    "        if len(xs) == 0:\n",
    "            xs = x\n",
    "        else:\n",
    "            xs = np.vstack((xs, x))\n",
    "    \n",
    "    return xs"
   ]
  },
  {
   "cell_type": "code",
   "execution_count": 11,
   "metadata": {},
   "outputs": [
    {
     "name": "stdout",
     "output_type": "stream",
     "text": [
      "filename b'../../data/audio_dataset/cough_1.wav' \n",
      "Num features 22 num samples 16 \n",
      "filename b'../../data/audio_dataset/cough_2.wav' \n",
      "Num features 22 num samples 25 \n",
      "filename b'../../data/audio_dataset/scream_1.wav' \n",
      "Num features 22 num samples 19 \n",
      "filename b'../../data/audio_dataset/scream_2.wav' \n",
      "Num features 22 num samples 43 \n",
      "filename b'../../data/audio_dataset/scream_3.wav' \n",
      "Num features 22 num samples 61 \n",
      "[[0.         0.0625     0.125      0.1875     0.         0.\n",
      "  0.         0.125      0.0625     0.0625     0.125      0.1875\n",
      "  0.1875     0.         0.0625     0.1875     0.         0.\n",
      "  0.         0.         0.         0.        ]\n",
      " [0.         0.04       0.         0.         0.04       0.\n",
      "  0.04       0.         0.         0.         0.         0.\n",
      "  0.         0.04       0.04       0.04       0.         0.08\n",
      "  0.12       0.04       0.08       0.08      ]\n",
      " [0.         0.         0.15789474 0.10526316 0.         0.\n",
      "  0.         0.         0.         0.05263158 0.         0.10526316\n",
      "  0.10526316 0.10526316 0.10526316 0.10526316 0.15789474 0.\n",
      "  0.15789474 0.         0.         0.        ]\n",
      " [0.04651163 0.         0.         0.         0.         0.\n",
      "  0.         0.         0.         0.         0.         0.\n",
      "  0.04651163 0.         0.         0.         0.02325581 0.\n",
      "  0.         0.02325581 0.         0.        ]\n",
      " [0.01639344 0.         0.         0.03278689 0.         0.03278689\n",
      "  0.         0.01639344 0.         0.         0.         0.01639344\n",
      "  0.         0.         0.         0.         0.         0.01639344\n",
      "  0.01639344 0.         0.01639344 0.01639344]]\n",
      "(5, 22)\n"
     ]
    }
   ],
   "source": [
    "X = get_dataset()    \n",
    "print(X)\n",
    "print(X.shape)"
   ]
  },
  {
   "cell_type": "code",
   "execution_count": 17,
   "metadata": {},
   "outputs": [
    {
     "name": "stdout",
     "output_type": "stream",
     "text": [
      "[ 0.03  1.03  2.03  3.03  4.03  5.03  6.03  7.03  8.03  9.03 10.03 11.03\n",
      " 12.03 13.03 14.03 15.03 16.03 17.03 18.03 19.03 20.03 21.03]\n"
     ]
    },
    {
     "data": {
      "image/png": "[encoded data removed]",
      "text/plain": [
       "<Figure size 432x288 with 1 Axes>"
      ]
     },
     "metadata": {
      "needs_background": "light"
     },
     "output_type": "display_data"
    }
   ],
   "source": [
    "labels=[]\n",
    "for i in np.arange(n_mfcc):\n",
    "    labels.append(\"P\"+str(i+1))\n",
    "    \n",
    "fig, ax = plt.subplots()\n",
    "ind = np.arange(len(labels))\n",
    "width = 0.15 \n",
    "colors = ['r', 'g', 'y', 'b', 'black']\n",
    "plots = []\n",
    "\n",
    "for i in range(X.shape[0]):\n",
    "    Xs = np.asarray(X[i]).reshape(-1)\n",
    "    p = ax.bar(ind + i*width, Xs, width, color=colors[i])\n",
    "    plots.append(p[0])\n",
    "\n",
    "xticks = ind + width / (X.shape[0])\n",
    "print(xticks)\n",
    "ax.legend(tuple(plots), ('Cough1', 'Cough2', 'Scream1', 'Scream2', 'Scream3'))\n",
    "ax.yaxis.set_units(inch)\n",
    "ax.autoscale_view()\n",
    "ax.set_xticks(xticks)\n",
    "ax.set_xticklabels(labels)\n",
    "\n",
    "ax.set_ylabel('Normalized freq coumt')\n",
    "ax.set_xlabel('Pitch')\n",
    "ax.set_title('Normalized frequency counts for Various Sounds')\n",
    "plt.show()"
   ]
  },
  {
   "cell_type": "code",
   "execution_count": null,
   "metadata": {},
   "outputs": [],
   "source": []
  }
 ],
 "metadata": {
  "kernelspec": {
   "display_name": "Python 3",
   "language": "python",
   "name": "python3"
  },
  "language_info": {
   "codemirror_mode": {
    "name": "ipython",
    "version": 3
   },
   "file_extension": ".py",
   "mimetype": "text/x-python",
   "name": "python",
   "nbconvert_exporter": "python",
   "pygments_lexer": "ipython3",
   "version": "3.8.5"
  }
 },
 "nbformat": 4,
 "nbformat_minor": 2
}
