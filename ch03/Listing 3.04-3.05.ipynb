{
 "cells": [
  {
   "cell_type": "code",
   "execution_count": 1,
   "metadata": {},
   "outputs": [],
   "source": [
    "import tensorflow as tf\n",
    "import numpy as np\n",
    "import matplotlib.pyplot as plt"
   ]
  },
  {
   "cell_type": "code",
   "execution_count": 9,
   "metadata": {},
   "outputs": [],
   "source": [
    "def split_dataset(x_dataset, y_dataset, ratio):\n",
    "    arr = np.arange(x_dataset.size)\n",
    "    np.random.shuffle(arr)\n",
    "    num_train = int(ratio * x_dataset.size)\n",
    "    x_train = x_dataset[arr[0:num_train]]\n",
    "    x_test = x_dataset[arr[num_train:x_dataset.size]]\n",
    "    y_train = y_dataset[arr[0:num_train]]\n",
    "    y_test = y_dataset[arr[num_train:x_dataset.size]]\n",
    "    return x_train, x_test, y_train, y_test"
   ]
  },
  {
   "cell_type": "code",
   "execution_count": 23,
   "metadata": {},
   "outputs": [],
   "source": [
    "learning_rate = 0.001\n",
    "training_epochs = 1000\n",
    "reg_lambda = 0."
   ]
  },
  {
   "cell_type": "code",
   "execution_count": 24,
   "metadata": {},
   "outputs": [],
   "source": [
    "x_dataset = np.linspace(-1, 1, 100)"
   ]
  },
  {
   "cell_type": "code",
   "execution_count": 25,
   "metadata": {},
   "outputs": [],
   "source": [
    "num_coeffs = 9\n",
    "y_dataset_params = [0.] * num_coeffs\n",
    "y_dataset_params[2] = 1\n",
    "y_dataset = 0"
   ]
  },
  {
   "cell_type": "code",
   "execution_count": 26,
   "metadata": {},
   "outputs": [],
   "source": [
    "for i in range(num_coeffs):\n",
    "    y_dataset += y_dataset_params[i] * np.power(x_dataset, i)\n",
    "y_dataset += np.random.randn(*x_dataset.shape) * 0.3"
   ]
  },
  {
   "cell_type": "code",
   "execution_count": 27,
   "metadata": {},
   "outputs": [],
   "source": [
    "(x_train, x_test, y_train, y_test) = split_dataset(x_dataset, y_dataset, 0.7)"
   ]
  },
  {
   "cell_type": "code",
   "execution_count": 28,
   "metadata": {},
   "outputs": [],
   "source": [
    "X = tf.placeholder(tf.float32)\n",
    "Y = tf.placeholder(tf.float32)"
   ]
  },
  {
   "cell_type": "code",
   "execution_count": 29,
   "metadata": {},
   "outputs": [],
   "source": [
    "def model(X, w):\n",
    "    terms = []\n",
    "    for i in range(num_coeffs):\n",
    "        term = tf.multiply(w[i], tf.pow(X, i))\n",
    "        terms.append(term)\n",
    "    return tf.add_n(terms)"
   ]
  },
  {
   "cell_type": "code",
   "execution_count": 30,
   "metadata": {},
   "outputs": [
    {
     "name": "stdout",
     "output_type": "stream",
     "text": [
      "WARNING:tensorflow:From <ipython-input-30-8c8e442b4c72>:4: div (from tensorflow.python.ops.math_ops) is deprecated and will be removed in a future version.\n",
      "Instructions for updating:\n",
      "Deprecated in favor of operator or tf.math.divide.\n"
     ]
    }
   ],
   "source": [
    "w = tf.Variable([0.] * num_coeffs, name=\"parameters\")\n",
    "y_model = model(X, w)\n",
    "cost = tf.div(tf.add(tf.reduce_sum(tf.square(Y-y_model)), tf.multiply(reg_lambda, tf.reduce_sum(tf.square(w)))),\n",
    "              2*x_train.size)"
   ]
  },
  {
   "cell_type": "code",
   "execution_count": 32,
   "metadata": {},
   "outputs": [
    {
     "name": "stdout",
     "output_type": "stream",
     "text": [
      "WARNING:tensorflow:From /Users/mattmann/git/buildout.python/python-3.7/lib/python3.7/site-packages/tensorflow/python/ops/math_ops.py:3066: to_int32 (from tensorflow.python.ops.math_ops) is deprecated and will be removed in a future version.\n",
      "Instructions for updating:\n",
      "Use tf.cast instead.\n"
     ]
    }
   ],
   "source": [
    "train_op = tf.train.GradientDescentOptimizer(learning_rate).minimize(cost)"
   ]
  },
  {
   "cell_type": "code",
   "execution_count": 33,
   "metadata": {},
   "outputs": [],
   "source": [
    "sess = tf.Session()\n",
    "init = tf.global_variables_initializer()\n",
    "sess.run(init)"
   ]
  },
  {
   "cell_type": "code",
   "execution_count": 35,
   "metadata": {},
   "outputs": [
    {
     "name": "stdout",
     "output_type": "stream",
     "text": [
      "reg lambda 0.0\n",
      "final cost 0.055848345\n",
      "reg lambda 0.010101010101010102\n",
      "final cost 0.04717991\n",
      "reg lambda 0.020202020202020204\n",
      "final cost 0.042935513\n",
      "reg lambda 0.030303030303030304\n",
      "final cost 0.039940663\n",
      "reg lambda 0.04040404040404041\n",
      "final cost 0.03760455\n",
      "reg lambda 0.05050505050505051\n",
      "final cost 0.03573119\n",
      "reg lambda 0.06060606060606061\n",
      "final cost 0.03421445\n",
      "reg lambda 0.07070707070707072\n",
      "final cost 0.03297953\n",
      "reg lambda 0.08080808080808081\n",
      "final cost 0.031968787\n",
      "reg lambda 0.09090909090909091\n",
      "final cost 0.031136809\n",
      "reg lambda 0.10101010101010102\n",
      "final cost 0.030447783\n",
      "reg lambda 0.11111111111111112\n",
      "final cost 0.029873518\n",
      "reg lambda 0.12121212121212122\n",
      "final cost 0.029391814\n",
      "reg lambda 0.13131313131313133\n",
      "final cost 0.028985154\n",
      "reg lambda 0.14141414141414144\n",
      "final cost 0.028639654\n",
      "reg lambda 0.15151515151515152\n",
      "final cost 0.028344287\n",
      "reg lambda 0.16161616161616163\n",
      "final cost 0.028090259\n",
      "reg lambda 0.17171717171717174\n",
      "final cost 0.0278705\n",
      "reg lambda 0.18181818181818182\n",
      "final cost 0.027679287\n",
      "reg lambda 0.19191919191919193\n",
      "final cost 0.027512046\n",
      "reg lambda 0.20202020202020204\n",
      "final cost 0.027364956\n",
      "reg lambda 0.21212121212121213\n",
      "final cost 0.027235052\n",
      "reg lambda 0.22222222222222224\n",
      "final cost 0.02711973\n",
      "reg lambda 0.23232323232323235\n",
      "final cost 0.027016927\n",
      "reg lambda 0.24242424242424243\n",
      "final cost 0.02692485\n",
      "reg lambda 0.25252525252525254\n",
      "final cost 0.026842248\n",
      "reg lambda 0.26262626262626265\n",
      "final cost 0.026767801\n",
      "reg lambda 0.27272727272727276\n",
      "final cost 0.026700499\n",
      "reg lambda 0.2828282828282829\n",
      "final cost 0.026639547\n",
      "reg lambda 0.29292929292929293\n",
      "final cost 0.02658431\n",
      "reg lambda 0.30303030303030304\n",
      "final cost 0.026533991\n",
      "reg lambda 0.31313131313131315\n",
      "final cost 0.026488297\n",
      "reg lambda 0.32323232323232326\n",
      "final cost 0.026446672\n",
      "reg lambda 0.33333333333333337\n",
      "final cost 0.026408581\n",
      "reg lambda 0.3434343434343435\n",
      "final cost 0.026374077\n",
      "reg lambda 0.3535353535353536\n",
      "final cost 0.026342433\n",
      "reg lambda 0.36363636363636365\n",
      "final cost 0.026313812\n",
      "reg lambda 0.37373737373737376\n",
      "final cost 0.02628756\n",
      "reg lambda 0.38383838383838387\n",
      "final cost 0.026264\n",
      "reg lambda 0.393939393939394\n",
      "final cost 0.026242547\n",
      "reg lambda 0.4040404040404041\n",
      "final cost 0.026223011\n",
      "reg lambda 0.4141414141414142\n",
      "final cost 0.026205571\n",
      "reg lambda 0.42424242424242425\n",
      "final cost 0.026190057\n",
      "reg lambda 0.43434343434343436\n",
      "final cost 0.026176166\n",
      "reg lambda 0.4444444444444445\n",
      "final cost 0.026163608\n",
      "reg lambda 0.4545454545454546\n",
      "final cost 0.026152542\n",
      "reg lambda 0.4646464646464647\n",
      "final cost 0.02614336\n",
      "reg lambda 0.4747474747474748\n",
      "final cost 0.02613529\n",
      "reg lambda 0.48484848484848486\n",
      "final cost 0.026128504\n",
      "reg lambda 0.494949494949495\n",
      "final cost 0.02612264\n",
      "reg lambda 0.5050505050505051\n",
      "final cost 0.026117846\n",
      "reg lambda 0.5151515151515152\n",
      "final cost 0.026114104\n",
      "reg lambda 0.5252525252525253\n",
      "final cost 0.0261117\n",
      "reg lambda 0.5353535353535354\n",
      "final cost 0.02611024\n",
      "reg lambda 0.5454545454545455\n",
      "final cost 0.02610962\n",
      "reg lambda 0.5555555555555556\n",
      "final cost 0.026109803\n",
      "reg lambda 0.5656565656565657\n",
      "final cost 0.026110647\n",
      "reg lambda 0.5757575757575758\n",
      "final cost 0.026112145\n",
      "reg lambda 0.5858585858585859\n",
      "final cost 0.026114259\n",
      "reg lambda 0.595959595959596\n",
      "final cost 0.026116963\n",
      "reg lambda 0.6060606060606061\n",
      "final cost 0.026120404\n",
      "reg lambda 0.6161616161616162\n",
      "final cost 0.026124721\n",
      "reg lambda 0.6262626262626263\n",
      "final cost 0.02612978\n",
      "reg lambda 0.6363636363636365\n",
      "final cost 0.026135314\n",
      "reg lambda 0.6464646464646465\n",
      "final cost 0.026141318\n",
      "reg lambda 0.6565656565656566\n",
      "final cost 0.026147692\n",
      "reg lambda 0.6666666666666667\n",
      "final cost 0.0261544\n",
      "reg lambda 0.6767676767676768\n",
      "final cost 0.0261616\n",
      "reg lambda 0.686868686868687\n",
      "final cost 0.026169054\n",
      "reg lambda 0.696969696969697\n",
      "final cost 0.026176957\n",
      "reg lambda 0.7070707070707072\n",
      "final cost 0.026184976\n",
      "reg lambda 0.7171717171717172\n",
      "final cost 0.026193436\n",
      "reg lambda 0.7272727272727273\n",
      "final cost 0.026202198\n",
      "reg lambda 0.7373737373737375\n",
      "final cost 0.026211014\n",
      "reg lambda 0.7474747474747475\n",
      "final cost 0.026220527\n",
      "reg lambda 0.7575757575757577\n",
      "final cost 0.026230045\n",
      "reg lambda 0.7676767676767677\n",
      "final cost 0.026239894\n",
      "reg lambda 0.7777777777777778\n",
      "final cost 0.02625004\n",
      "reg lambda 0.787878787878788\n",
      "final cost 0.026260883\n",
      "reg lambda 0.797979797979798\n",
      "final cost 0.02627156\n",
      "reg lambda 0.8080808080808082\n",
      "final cost 0.026282486\n",
      "reg lambda 0.8181818181818182\n",
      "final cost 0.026293775\n",
      "reg lambda 0.8282828282828284\n",
      "final cost 0.026305001\n",
      "reg lambda 0.8383838383838385\n",
      "final cost 0.026316207\n",
      "reg lambda 0.8484848484848485\n",
      "final cost 0.026327515\n",
      "reg lambda 0.8585858585858587\n",
      "final cost 0.02633938\n",
      "reg lambda 0.8686868686868687\n",
      "final cost 0.026350938\n",
      "reg lambda 0.8787878787878789\n",
      "final cost 0.026362194\n",
      "reg lambda 0.888888888888889\n",
      "final cost 0.026373757\n",
      "reg lambda 0.8989898989898991\n",
      "final cost 0.026385752\n",
      "reg lambda 0.9090909090909092\n",
      "final cost 0.026397647\n",
      "reg lambda 0.9191919191919192\n",
      "final cost 0.026409373\n",
      "reg lambda 0.9292929292929294\n",
      "final cost 0.02642162\n",
      "reg lambda 0.9393939393939394\n",
      "final cost 0.02643389\n",
      "reg lambda 0.9494949494949496\n",
      "final cost 0.026445579\n",
      "reg lambda 0.9595959595959597\n",
      "final cost 0.026457591\n",
      "reg lambda 0.9696969696969697\n",
      "final cost 0.026469642\n",
      "reg lambda 0.9797979797979799\n",
      "final cost 0.026481329\n",
      "reg lambda 0.98989898989899\n",
      "final cost 0.026493596\n",
      "reg lambda 1.0\n",
      "final cost 0.02650568\n"
     ]
    }
   ],
   "source": [
    "for reg_lambda in np.linspace(0, 1, 100):\n",
    "    for epoch in range(training_epochs):\n",
    "        sess.run(train_op, feed_dict={X:x_train, Y:y_train})\n",
    "    final_cost = sess.run(cost, feed_dict={X:x_test, Y:y_test})\n",
    "    print('reg lambda', reg_lambda)\n",
    "    print('final cost', final_cost)\n",
    "\n",
    "sess.close()"
   ]
  },
  {
   "cell_type": "code",
   "execution_count": null,
   "metadata": {},
   "outputs": [],
   "source": []
  }
 ],
 "metadata": {
  "kernelspec": {
   "display_name": "Python 3",
   "language": "python",
   "name": "python3"
  },
  "language_info": {
   "codemirror_mode": {
    "name": "ipython",
    "version": 3
   },
   "file_extension": ".py",
   "mimetype": "text/x-python",
   "name": "python",
   "nbconvert_exporter": "python",
   "pygments_lexer": "ipython3",
   "version": "3.7.0b1"
  }
 },
 "nbformat": 4,
 "nbformat_minor": 2
}
