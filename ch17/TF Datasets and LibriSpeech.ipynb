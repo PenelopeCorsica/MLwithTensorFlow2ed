{
 "cells": [
  {
   "cell_type": "code",
   "execution_count": null,
   "metadata": {},
   "outputs": [],
   "source": [
    "import tensorflow as tf\n",
    "import glob\n",
    "from tensorflow.data.experimental import AUTOTUNE "
   ]
  },
  {
   "cell_type": "code",
   "execution_count": null,
   "metadata": {},
   "outputs": [],
   "source": [
    "speech_data_path = \"../data/LibriSpeech\"\n",
    "train_path = speech_data_path + \"/train-clean-100\"\n",
    "dev_path = speech_data_path + \"/dev-clean\"\n",
    "test_path = speech_data_path + \"/test-clean\"\n"
   ]
  },
  {
   "cell_type": "code",
   "execution_count": null,
   "metadata": {},
   "outputs": [],
   "source": [
    "train_audio_wav = [file for file in glob.glob(train_path + \"/*/*/*.wav\")]"
   ]
  },
  {
   "cell_type": "code",
   "execution_count": null,
   "metadata": {},
   "outputs": [],
   "source": [
    "print(len(train_audio_wav))"
   ]
  },
  {
   "cell_type": "code",
   "execution_count": null,
   "metadata": {},
   "outputs": [],
   "source": [
    "BATCH_SIZE=10\n",
    "train_size=100\n",
    "train_audio_ds = tf.data.Dataset.from_tensor_slices(train_audio_wav[0:train_size])\n",
    "train_audio_ds = train_audio_ds.batch(25)\n",
    "train_audio_ds = train_audio_ds.shuffle(buffer_size=train_size)\n",
    "train_audio_ds = train_audio_ds.prefetch(buffer_size=AUTOTUNE)\n",
    "num_epochs = 2"
   ]
  },
  {
   "cell_type": "code",
   "execution_count": null,
   "metadata": {},
   "outputs": [],
   "source": [
    "with tf.Session() as sess:\n",
    "    sess.run(tf.global_variables_initializer())\n",
    "    \n",
    "    for epoch in range(0, num_epochs):\n",
    "        iter = train_audio_ds.make_one_shot_iterator()\n",
    "        batch_num = 0\n",
    "        iter_op = iter.get_next()\n",
    "\n",
    "        while True:\n",
    "            try:\n",
    "                train_batch = sess.run(iter_op)\n",
    "                print(train_batch)\n",
    "                batch_num += 1\n",
    "                print('Batch Num %d ' % (batch_num))\n",
    "            except tf.errors.OutOfRangeError:\n",
    "                print('Epoch %d ' % (epoch))\n",
    "                break"
   ]
  },
  {
   "cell_type": "code",
   "execution_count": null,
   "metadata": {},
   "outputs": [],
   "source": []
  }
 ],
 "metadata": {
  "kernelspec": {
   "display_name": "Python 3",
   "language": "python",
   "name": "python3"
  },
  "language_info": {
   "codemirror_mode": {
    "name": "ipython",
    "version": 3
   },
   "file_extension": ".py",
   "mimetype": "text/x-python",
   "name": "python",
   "nbconvert_exporter": "python",
   "pygments_lexer": "ipython3",
   "version": "3.6.9"
  }
 },
 "nbformat": 4,
 "nbformat_minor": 2
}
