{
 "cells": [
  {
   "cell_type": "code",
   "execution_count": 1,
   "metadata": {},
   "outputs": [],
   "source": [
    "import os\n",
    "import matplotlib.pyplot as plt\n",
    "import numpy as np"
   ]
  },
  {
   "cell_type": "code",
   "execution_count": 2,
   "metadata": {},
   "outputs": [],
   "source": [
    "# http://code.activestate.com/recipes/578361-byte-frequency-analyzer/\n",
    "def to_byte_freq2(filename):\n",
    "    try:\n",
    "        table = [0] * 256\n",
    "        data = open(filename, 'rb')\n",
    "        buff = data.read(2 ** 20)\n",
    "        #print(buff)\n",
    "        while buff:\n",
    "            for c in buff:\n",
    "                #print(c)\n",
    "                table[c] += 1 # in Python3 no need for ord(c)\n",
    "                #https://stackoverflow.com/questions/19897209/troubleshooting-typeerror-ord-expected-string-of-length-1-but-int-found\n",
    "            buff = data.read(2 ** 20)\n",
    "        data.close()\n",
    "        #print('\\n'.join('%02X = %d' % (i, c) for i, c in enumerate(table) if c))\n",
    "        return table / np.max(table)\n",
    "    except TypeError as e:\n",
    "        print('Error '+str(e))"
   ]
  },
  {
   "cell_type": "code",
   "execution_count": 3,
   "metadata": {},
   "outputs": [],
   "source": [
    "# http://code.activestate.com/recipes/577476-shannon-entropy-calculation/\n",
    "def to_byte_freq(filename):\n",
    "    # read the whole file into a byte array\n",
    "    f = open(filename, \"rb\")\n",
    "    byteArr = f.read() # list(map(ord, f.read()))\n",
    "    f.close()\n",
    "    fileSize = len(byteArr)\n",
    "    print('File size in bytes: %d' % (fileSize))\n",
    "\n",
    "    # calculate the frequency of each byte value in the file\n",
    "    freqList = []\n",
    "    for b in range(256):\n",
    "        ctr = 0\n",
    "        for byte in byteArr:\n",
    "            if byte == b:\n",
    "                ctr += 1\n",
    "        freqList.append(float(ctr) / fileSize)\n",
    "    \n",
    "    print('Frequencies of each byte-character:' +str(freqList))\n",
    "    print('Freq Size: '+str(len(freqList)))\n",
    "    \n",
    "    return freqList"
   ]
  },
  {
   "cell_type": "code",
   "execution_count": 7,
   "metadata": {},
   "outputs": [],
   "source": [
    "freq = to_byte_freq2(os.environ['HOME']+'/.bashrc')"
   ]
  },
  {
   "cell_type": "code",
   "execution_count": 8,
   "metadata": {},
   "outputs": [
    {
     "name": "stdout",
     "output_type": "stream",
     "text": [
      "256 256\n"
     ]
    },
    {
     "data": {
      "text/plain": [
       "<BarContainer object of 256 artists>"
      ]
     },
     "execution_count": 8,
     "metadata": {},
     "output_type": "execute_result"
    },
    {
     "data": {
      "image/png": "[encoded data removed]",
      "text/plain": [
       "<Figure size 432x288 with 1 Axes>"
      ]
     },
     "metadata": {
      "needs_background": "light"
     },
     "output_type": "display_data"
    }
   ],
   "source": [
    "pltX = np.arange(0,256)\n",
    "pltY = freq\n",
    "print(str(len(pltX))+\" \"+str(len(pltY)))\n",
    "plt.ylabel('Normalized Byte Freq')\n",
    "#https://stackoverflow.com/questions/56704332/trying-to-make-a-barchart-bar-missing-1-required-positional-argument-height\n",
    "plt.bar(pltX, pltY, align='edge', width=0.4)"
   ]
  },
  {
   "cell_type": "code",
   "execution_count": null,
   "metadata": {},
   "outputs": [],
   "source": []
  }
 ],
 "metadata": {
  "kernelspec": {
   "display_name": "Python 3",
   "language": "python",
   "name": "python3"
  },
  "language_info": {
   "codemirror_mode": {
    "name": "ipython",
    "version": 3
   },
   "file_extension": ".py",
   "mimetype": "text/x-python",
   "name": "python",
   "nbconvert_exporter": "python",
   "pygments_lexer": "ipython3",
   "version": "3.7.7"
  }
 },
 "nbformat": 4,
 "nbformat_minor": 2
}
